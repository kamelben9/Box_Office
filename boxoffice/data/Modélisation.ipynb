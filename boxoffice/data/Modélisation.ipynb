{
 "cells": [
  {
   "cell_type": "markdown",
   "metadata": {},
   "source": [
    "### Bibliothèque"
   ]
  },
  {
   "cell_type": "code",
   "execution_count": null,
   "metadata": {},
   "outputs": [],
   "source": [
    "import pandas as pd\n",
    "import matplotlib.pyplot as plt\n",
    "import numpy as np\n",
    "import seaborn as sns\n",
    "from datetime import datetime\n",
    "from sklearn.model_selection import train_test_split, cross_val_score, GridSearchCV, RandomizedSearchCV\n",
    "from sklearn.pipeline import Pipeline\n",
    "from sklearn.preprocessing import StandardScaler, OneHotEncoder, PolynomialFeatures, LabelEncoder\n",
    "from sklearn.decomposition import PCA\n",
    "from sklearn.linear_model import LinearRegression, ElasticNet\n",
    "from sklearn.pipeline import make_pipeline\n",
    "from sklearn.compose import ColumnTransformer, make_column_transformer\n",
    "from sklearn.model_selection import learning_curve, validation_curve\n",
    "from sklearn.metrics import r2_score, mean_absolute_error\n",
    "from sklearn.base import BaseEstimator, TransformerMixin\n",
    "from sklearn.impute import SimpleImputer\n",
    "\n",
    "from xgboost import XGBRegressor\n"
   ]
  },
  {
   "cell_type": "markdown",
   "metadata": {},
   "source": [
    "### Import"
   ]
  },
  {
   "cell_type": "code",
   "execution_count": null,
   "metadata": {},
   "outputs": [],
   "source": [
    "# Charger le jeu de données dans un DataFrame pandas\n",
    "df = pd.read_csv('data_film_model.csv')"
   ]
  },
  {
   "cell_type": "code",
   "execution_count": null,
   "metadata": {},
   "outputs": [],
   "source": [
    "pd.options.display.max_columns = 150"
   ]
  },
  {
   "cell_type": "code",
   "execution_count": null,
   "metadata": {},
   "outputs": [],
   "source": [
    "df.columns"
   ]
  },
  {
   "cell_type": "code",
   "execution_count": null,
   "metadata": {},
   "outputs": [],
   "source": [
    "df.head(1)"
   ]
  },
  {
   "cell_type": "code",
   "execution_count": null,
   "metadata": {},
   "outputs": [],
   "source": [
    "df.info()"
   ]
  },
  {
   "cell_type": "code",
   "execution_count": null,
   "metadata": {},
   "outputs": [],
   "source": [
    "df.columns"
   ]
  },
  {
   "cell_type": "code",
   "execution_count": null,
   "metadata": {},
   "outputs": [],
   "source": [
    "print(df.duplicated().value_counts())"
   ]
  },
  {
   "cell_type": "markdown",
   "metadata": {},
   "source": [
    "### Train/Test/Split"
   ]
  },
  {
   "cell_type": "code",
   "execution_count": null,
   "metadata": {},
   "outputs": [],
   "source": [
    "X = df.drop(['Unnamed: 0', 'title', 'budget',  'press_eval', 'viewers_eval','year','stars_producers_director','box_office_first_week'],axis=1)\n",
    "y = df['box_office_first_week']\n",
    "X_train, X_test, y_train, y_test = train_test_split(X, y, train_size=0.8, shuffle=True, random_state=42)"
   ]
  },
  {
   "cell_type": "code",
   "execution_count": null,
   "metadata": {},
   "outputs": [],
   "source": [
    "print('Train set:', X_train.shape)\n",
    "print('Test set:', X_test.shape)"
   ]
  },
  {
   "cell_type": "code",
   "execution_count": null,
   "metadata": {},
   "outputs": [],
   "source": [
    "X.columns"
   ]
  },
  {
   "cell_type": "code",
   "execution_count": null,
   "metadata": {},
   "outputs": [],
   "source": [
    "X.info()"
   ]
  },
  {
   "cell_type": "code",
   "execution_count": null,
   "metadata": {},
   "outputs": [],
   "source": [
    "X.isnull().sum()"
   ]
  },
  {
   "cell_type": "code",
   "execution_count": null,
   "metadata": {},
   "outputs": [],
   "source": [
    "X.head()"
   ]
  },
  {
   "cell_type": "markdown",
   "metadata": {},
   "source": [
    "### Pipeline"
   ]
  },
  {
   "cell_type": "code",
   "execution_count": null,
   "metadata": {},
   "outputs": [],
   "source": [
    "# Définir les paramètres du préprocesseur\n",
    "numerical_features = ['duration_minutes',  'nombre_acteurs_connus']\n",
    "categorical_features = ['nationality', 'season']"
   ]
  },
  {
   "cell_type": "code",
   "execution_count": null,
   "metadata": {},
   "outputs": [],
   "source": [
    "# Création de pipelines\n",
    "numerical_transformer = StandardScaler()\n",
    "categorical_transformer = OneHotEncoder()\n"
   ]
  },
  {
   "cell_type": "markdown",
   "metadata": {},
   "source": [
    "### Preprocessing"
   ]
  },
  {
   "cell_type": "code",
   "execution_count": null,
   "metadata": {},
   "outputs": [],
   "source": [
    "# Création d'un Préprocessor pour appliquer les pipelines crées pour les transfomations sur les colonnes\n",
    "preprocessing = ColumnTransformer(\n",
    "    transformers=[\n",
    "        ('num', numerical_transformer, numerical_features),\n",
    "        ('cat', categorical_transformer, categorical_features)\n",
    "    ],\n",
    "    remainder=\"passthrough\"\n",
    ")\n",
    "\n",
    "\"\"\"\n",
    "Si pour un type de variable, on a pas de transformer, il faut utiliser\n",
    "remainder=\"passthrough\"      \n",
    "\"\"\"\n"
   ]
  },
  {
   "cell_type": "markdown",
   "metadata": {},
   "source": [
    "### Régression Linéaire"
   ]
  },
  {
   "cell_type": "code",
   "execution_count": null,
   "metadata": {},
   "outputs": [],
   "source": [
    "# Modèle de Regression Linéaire\n",
    "\n",
    "\n",
    "model_lr = make_pipeline(preprocessing, LinearRegression())\n",
    "\n",
    "model_lr.fit(X_train,y_train)\n"
   ]
  },
  {
   "cell_type": "code",
   "execution_count": null,
   "metadata": {},
   "outputs": [],
   "source": [
    "# Accéder à l'étape de mise à l'échelle à l'aide de named_steps\n",
    "linear = model_lr[-1]"
   ]
  },
  {
   "cell_type": "code",
   "execution_count": null,
   "metadata": {},
   "outputs": [],
   "source": [
    "print(type(linear))"
   ]
  },
  {
   "cell_type": "code",
   "execution_count": null,
   "metadata": {},
   "outputs": [],
   "source": [
    "\n",
    "# Prédictions sur les ensembles d'entraînement et de test\n",
    "y_train_pred = model_lr.predict(X_train)\n",
    "y_test_pred = model_lr.predict(X_test)\n",
    "\n",
    "# Calculer R² et MAE pour l'ensemble d'entraînement\n",
    "r2_train = r2_score(y_train, y_train_pred)\n",
    "mae_train = mean_absolute_error(y_train, y_train_pred)\n",
    "\n",
    "# Calculer R² et MAE pour l'ensemble de test\n",
    "r2_test = r2_score(y_test, y_test_pred)\n",
    "mae_test = mean_absolute_error(y_test, y_test_pred)\n",
    "\n",
    "# Afficher les résultats\n",
    "print(f'R² (Entraînement): {r2_train:.2f}')\n",
    "print(f'MAE (Entraînement): {mae_train:.2f}')\n",
    "print(f'R² (Test): {r2_test:.2f}')\n",
    "print(f'MAE (Test): {mae_test:.2f}')"
   ]
  },
  {
   "cell_type": "code",
   "execution_count": null,
   "metadata": {},
   "outputs": [],
   "source": [
    "model_lr.score(X_train, y_train)"
   ]
  },
  {
   "cell_type": "code",
   "execution_count": null,
   "metadata": {},
   "outputs": [],
   "source": [
    "y_pred = model_lr.predict(X_train)"
   ]
  },
  {
   "cell_type": "code",
   "execution_count": null,
   "metadata": {},
   "outputs": [],
   "source": [
    "# Calcul du R²\n",
    "r2 = r2_score(y_train, y_pred)\n",
    "print(\"R² : %.2f\" % r2)"
   ]
  },
  {
   "cell_type": "code",
   "execution_count": null,
   "metadata": {},
   "outputs": [],
   "source": [
    "# Calcul du MAE\n",
    "mae = mean_absolute_error(y_train, y_pred)\n",
    "print(\"MAE : %.2f\" % mae)"
   ]
  },
  {
   "cell_type": "code",
   "execution_count": null,
   "metadata": {},
   "outputs": [],
   "source": [
    "y_pred = model_lr.predict(X_train)"
   ]
  },
  {
   "cell_type": "code",
   "execution_count": null,
   "metadata": {},
   "outputs": [],
   "source": [
    "# Faire des prédictions sur les données de test\n",
    "y_pred = model_lr.predict(X_test)\n",
    "\n",
    "y_pred_train = model_lr.predict(X_train)"
   ]
  },
  {
   "cell_type": "code",
   "execution_count": null,
   "metadata": {},
   "outputs": [],
   "source": [
    "print(\"R-squared (R2) : \")\n",
    "print(\"TRAIN :\", r2_score(y_train, y_pred_train))\n",
    "print(\"TEST :\", r2_score(y_test, y_pred))"
   ]
  },
  {
   "cell_type": "markdown",
   "metadata": {},
   "source": [
    "### XGBoost"
   ]
  },
  {
   "cell_type": "code",
   "execution_count": null,
   "metadata": {},
   "outputs": [],
   "source": [
    "# Définition de la grille de paramètres\n",
    "params = {\n",
    "    'n_estimators': 200,\n",
    "    'max_depth': 3,\n",
    "    'learning_rate': 0.2\n",
    "}"
   ]
  },
  {
   "cell_type": "code",
   "execution_count": null,
   "metadata": {},
   "outputs": [],
   "source": [
    "xgbr = make_pipeline(preprocessing, XGBRegressor())\n",
    "\n",
    "xgbr.fit(X_train, y_train)"
   ]
  },
  {
   "cell_type": "code",
   "execution_count": null,
   "metadata": {},
   "outputs": [],
   "source": [
    "xgbr.get_params"
   ]
  },
  {
   "cell_type": "code",
   "execution_count": null,
   "metadata": {},
   "outputs": [],
   "source": [
    "xgbr.score(X_train, y_train)*100"
   ]
  },
  {
   "cell_type": "code",
   "execution_count": null,
   "metadata": {},
   "outputs": [],
   "source": [
    "xgbr.score(X_test, y_test)*100"
   ]
  },
  {
   "cell_type": "code",
   "execution_count": null,
   "metadata": {},
   "outputs": [],
   "source": [
    "y_pred_2 = xgbr.predict(X_train)"
   ]
  },
  {
   "cell_type": "code",
   "execution_count": null,
   "metadata": {},
   "outputs": [],
   "source": [
    "y_pred_3 = xgbr.predict(X_test)"
   ]
  },
  {
   "cell_type": "code",
   "execution_count": null,
   "metadata": {},
   "outputs": [],
   "source": [
    "# Calcul du R²\n",
    "r2 = r2_score(y_train, y_pred_2)\n",
    "print(\"R² : %.2f\" % r2)"
   ]
  },
  {
   "cell_type": "code",
   "execution_count": null,
   "metadata": {},
   "outputs": [],
   "source": [
    "# Calcul du R²\n",
    "r2 = r2_score(y_test, y_pred_3)\n",
    "print(\"R² : %.2f\" % r2)"
   ]
  },
  {
   "cell_type": "code",
   "execution_count": null,
   "metadata": {},
   "outputs": [],
   "source": [
    "# Calcul du MAE\n",
    "mae = mean_absolute_error(y_train, y_pred_2)\n",
    "print(\"MAE : %.2f\" % mae)"
   ]
  },
  {
   "cell_type": "code",
   "execution_count": null,
   "metadata": {},
   "outputs": [],
   "source": [
    "\n",
    "# Prédictions sur les ensembles d'entraînement et de test\n",
    "y_train_pred = xgbr.predict(X_train)\n",
    "y_test_pred = xgbr.predict(X_test)\n",
    "\n",
    "# Calculer R² et MAE pour l'ensemble d'entraînement\n",
    "r2_train = r2_score(y_train, y_train_pred)\n",
    "mae_train = mean_absolute_error(y_train, y_train_pred)\n",
    "\n",
    "# Calculer R² et MAE pour l'ensemble de test\n",
    "r2_test = r2_score(y_test, y_test_pred)\n",
    "mae_test = mean_absolute_error(y_test, y_test_pred)\n",
    "\n",
    "# Afficher les résultats\n",
    "print(f'R² (Entraînement): {r2_train:.2f}')\n",
    "print(f'MAE (Entraînement): {mae_train:.2f}')\n",
    "print(f'R² (Test): {r2_test:.2f}')\n",
    "print(f'MAE (Test): {mae_test:.2f}')"
   ]
  },
  {
   "cell_type": "markdown",
   "metadata": {},
   "source": [
    "### GridSearch"
   ]
  },
  {
   "cell_type": "code",
   "execution_count": null,
   "metadata": {},
   "outputs": [],
   "source": [
    "\n",
    "# Définir les caractéristiques numériques et catégorielles\n",
    "numerical_features = ['duration_minutes', 'nombre_acteurs_connus']\n",
    "categorical_features = ['nationality', 'season']\n",
    "\n",
    "# Définir les transformateurs\n",
    "numerical_transformer = StandardScaler()\n",
    "categorical_transformer = OneHotEncoder(handle_unknown='ignore')\n",
    "\n",
    "# Créer le préprocesseur avec ColumnTransformer\n",
    "preprocessing = ColumnTransformer(\n",
    "    transformers=[\n",
    "        ('num', numerical_transformer, numerical_features),\n",
    "        ('cat', categorical_transformer, categorical_features)\n",
    "    ],\n",
    "    remainder=\"passthrough\"\n",
    ")\n",
    "\n",
    "# Créer le pipeline avec XGBoost\n",
    "xgb_model = Pipeline([\n",
    "    ('preprocessing', preprocessing),\n",
    "    ('xgb', XGBRegressor())\n",
    "])\n",
    "\n",
    "# Définir la grille de recherche des hyperparamètres\n",
    "param_grid = {\n",
    "    'xgb__n_estimators': [50, 100, 200],\n",
    "    'xgb__learning_rate': [0.01, 0.1, 0.2],\n",
    "    'xgb__max_depth': [3, 5, 7]\n",
    "}\n",
    "\n",
    "# Effectuer la recherche des meilleurs paramètres avec GridSearchCV\n",
    "grid_search = GridSearchCV(estimator=xgb_model, param_grid=param_grid, cv=5, n_jobs=-1)\n",
    "\n",
    "# Adapter le modèle\n",
    "grid_search.fit(X_train, y_train)\n",
    "\n",
    "# Afficher les meilleurs paramètres\n",
    "print(\"Meilleurs paramètres pour XGBoost:\", grid_search.best_params_)\n",
    "\n",
    "# Obtenir les meilleures estimations\n",
    "best_model = grid_search.best_estimator_\n",
    "\n",
    "# Prédictions sur les ensembles d'entraînement et de test\n",
    "y_train_pred = best_model.predict(X_train)\n",
    "y_test_pred = best_model.predict(X_test)\n",
    "\n",
    "# Calculer R² et MAE pour l'ensemble d'entraînement\n",
    "r2_train = r2_score(y_train, y_train_pred)\n",
    "mae_train = mean_absolute_error(y_train, y_train_pred)\n",
    "\n",
    "# Calculer R² et MAE pour l'ensemble de test\n",
    "r2_test = r2_score(y_test, y_test_pred)\n",
    "mae_test = mean_absolute_error(y_test, y_test_pred)\n",
    "\n",
    "# Afficher les résultats\n",
    "print(f'R² (Entraînement): {r2_train:.2f}')\n",
    "print(f'MAE (Entraînement): {mae_train:.2f}')\n",
    "print(f'R² (Test): {r2_test:.2f}')\n",
    "print(f'MAE (Test): {mae_test:.2f}')"
   ]
  },
  {
   "cell_type": "code",
   "execution_count": null,
   "metadata": {},
   "outputs": [],
   "source": [
    "grid_search.score(X_train, y_train)*100"
   ]
  },
  {
   "cell_type": "code",
   "execution_count": null,
   "metadata": {},
   "outputs": [],
   "source": [
    "grid_search.score(X_test, y_test)*100"
   ]
  },
  {
   "cell_type": "markdown",
   "metadata": {},
   "source": [
    "### Courbe de Validation"
   ]
  },
  {
   "cell_type": "code",
   "execution_count": null,
   "metadata": {},
   "outputs": [],
   "source": [
    "# Courbe de validation pour XGBoost\n",
    "param_range = np.arange(50, 250, 25)\n",
    "train_scores, test_scores = validation_curve(\n",
    "    grid_search.best_estimator_, X_train, y_train, param_name=\"xgb__n_estimators\", param_range=param_range,\n",
    "    scoring=\"r2\", cv=5\n",
    ")\n",
    "\n",
    "plt.figure(figsize=(10, 6))\n",
    "plt.plot(param_range, np.mean(train_scores, axis=1), label=\"Entraînement\")\n",
    "plt.plot(param_range, np.mean(test_scores, axis=1), label=\"Validation\")\n",
    "plt.title(\"Courbe de validation pour XGBoost\")\n",
    "plt.xlabel(\"Nombre d'estimateurs\")\n",
    "plt.ylabel(\"Score R2\")\n",
    "plt.legend()\n",
    "plt.show()\n",
    "print(X_train.shape)\n",
    "print(X_test.shape)\n"
   ]
  },
  {
   "cell_type": "markdown",
   "metadata": {},
   "source": [
    "### Courbe d'apprentissage"
   ]
  },
  {
   "cell_type": "code",
   "execution_count": null,
   "metadata": {},
   "outputs": [],
   "source": [
    "# Courbe d'apprentissage pour XGBoost\n",
    "\n",
    "# Obtenir le meilleur estimateur de la recherche de grille\n",
    "best_estimator = grid_search.best_estimator_\n",
    "\n",
    "# Tracer la courbe d'apprentissage\n",
    "train_sizes, train_scores, test_scores = learning_curve(\n",
    "    best_estimator, X_train, y_train, scoring=\"r2\", cv=5\n",
    ")\n",
    "\n",
    "plt.figure(figsize=(10, 6))\n",
    "plt.plot(train_sizes, np.mean(train_scores, axis=1), label=\"Entraînement\")\n",
    "plt.plot(train_sizes, np.mean(test_scores, axis=1), label=\"Validation\")\n",
    "plt.title(\"Courbe d'apprentissage pour XGBoost\")\n",
    "plt.xlabel(\"Taille de l'ensemble d'entraînement\")\n",
    "plt.ylabel(\"Score R2\")\n",
    "plt.legend()\n",
    "plt.show()\n",
    "print(X_train.shape)\n",
    "print(X_test.shape)\n",
    "\n"
   ]
  },
  {
   "cell_type": "markdown",
   "metadata": {},
   "source": [
    "### Score Final"
   ]
  },
  {
   "cell_type": "code",
   "execution_count": null,
   "metadata": {},
   "outputs": [],
   "source": [
    "# Prédiction sur l'ensemble de test\n",
    "y_pred = grid_search.predict(X_test)\n",
    "\n",
    "# Évaluation des performances du modèle\n",
    "from sklearn.metrics import r2_score\n",
    "\n",
    "r2 = r2_score(y_test, y_pred)*100\n",
    "mae = mean_absolute_error(y_test, y_pred)\n",
    "\n",
    "print(\"R2 Score sur l'ensemble de test:\", r2)\n",
    "print(\"Erreur absolue moyenne (MAE) sur l'ensemble de test:  %.2f\" % mae)\n"
   ]
  },
  {
   "cell_type": "markdown",
   "metadata": {},
   "source": [
    "### Feature Importance"
   ]
  },
  {
   "cell_type": "code",
   "execution_count": null,
   "metadata": {},
   "outputs": [],
   "source": [
    "# Réappliquer le prétraitement aux données d'entraînement\n",
    "X_train_preprocessed = grid_search.best_estimator_.named_steps['preprocessing'].transform(X_train)\n",
    "\n",
    "# Obtenir les caractéristiques utilisées lors de l'apprentissage du modèle\n",
    "features = grid_search.best_estimator_.named_steps['preprocessing'].get_feature_names_out()\n",
    "\n",
    "# Obtenir les importances des caractéristiques à partir du meilleur estimateur\n",
    "feature_importances = grid_search.best_estimator_.named_steps['xgb'].feature_importances_\n",
    "\n",
    "# Créer un DataFrame pour afficher les importances des caractéristiques\n",
    "importance_df = pd.DataFrame({'Feature': features, 'Importance': feature_importances})\n",
    "importance_df = importance_df.sort_values(by='Importance', ascending=False)\n",
    "\n",
    "# Sélectionner les 15 caractéristiques les plus importantes\n",
    "top_15_features = importance_df.nlargest(15, 'Importance')\n",
    "\n",
    "# Tracer les importances des caractéristiques\n",
    "plt.figure(figsize=(10, 6))\n",
    "sns.barplot(x='Importance', y='Feature', data=top_15_features)\n",
    "plt.title(\"Importance des 15 caractéristiques les plus importantes dans le modèle XGBoost\")\n",
    "plt.xlabel(\"Importance\")\n",
    "plt.ylabel(\"Caractéristiques\")\n",
    "plt.show()"
   ]
  },
  {
   "cell_type": "code",
   "execution_count": null,
   "metadata": {},
   "outputs": [],
   "source": [
    "grid_search"
   ]
  },
  {
   "cell_type": "code",
   "execution_count": null,
   "metadata": {},
   "outputs": [],
   "source": [
    "import joblib\n",
    "\n",
    "# Enregistrement du modèle sous format pickle\n",
    "joblib.dump(grid_search, 'model.pkl')"
   ]
  },
  {
   "cell_type": "code",
   "execution_count": null,
   "metadata": {},
   "outputs": [],
   "source": [
    "test = X.iloc[0]\n",
    "test"
   ]
  },
  {
   "cell_type": "code",
   "execution_count": null,
   "metadata": {},
   "outputs": [],
   "source": [
    "X.columns"
   ]
  },
  {
   "cell_type": "code",
   "execution_count": null,
   "metadata": {},
   "outputs": [],
   "source": [
    "X.dtypes"
   ]
  },
  {
   "cell_type": "code",
   "execution_count": null,
   "metadata": {},
   "outputs": [],
   "source": [
    "X.columns.shape"
   ]
  }
 ],
 "metadata": {
  "kernelspec": {
   "display_name": "dt_env",
   "language": "python",
   "name": "python3"
  },
  "language_info": {
   "codemirror_mode": {
    "name": "ipython",
    "version": 3
   },
   "file_extension": ".py",
   "mimetype": "text/x-python",
   "name": "python",
   "nbconvert_exporter": "python",
   "pygments_lexer": "ipython3",
   "version": "3.9.12"
  }
 },
 "nbformat": 4,
 "nbformat_minor": 2
}
