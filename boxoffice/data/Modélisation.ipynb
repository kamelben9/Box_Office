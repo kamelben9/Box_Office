{
 "cells": [
  {
   "cell_type": "markdown",
   "metadata": {},
   "source": [
    "### Bibliothèque"
   ]
  },
  {
   "cell_type": "code",
   "execution_count": 1,
   "metadata": {},
   "outputs": [],
   "source": [
    "import pandas as pd\n",
    "import matplotlib.pyplot as plt\n",
    "import numpy as np\n",
    "import seaborn as sns\n",
    "from datetime import datetime\n",
    "from sklearn.model_selection import train_test_split, cross_val_score, GridSearchCV, RandomizedSearchCV\n",
    "from sklearn.pipeline import Pipeline\n",
    "from sklearn.preprocessing import StandardScaler, OneHotEncoder, PolynomialFeatures, LabelEncoder\n",
    "from sklearn.decomposition import PCA\n",
    "from sklearn.linear_model import LinearRegression, ElasticNet\n",
    "from sklearn.pipeline import make_pipeline\n",
    "from sklearn.compose import ColumnTransformer, make_column_transformer\n",
    "from sklearn.model_selection import learning_curve, validation_curve\n",
    "from sklearn.metrics import r2_score, mean_absolute_error\n",
    "from sklearn.base import BaseEstimator, TransformerMixin\n",
    "from sklearn.impute import SimpleImputer\n",
    "from xgboost import XGBRegressor\n"
   ]
  },
  {
   "cell_type": "markdown",
   "metadata": {},
   "source": [
    "### Import"
   ]
  },
  {
   "cell_type": "code",
   "execution_count": 2,
   "metadata": {},
   "outputs": [],
   "source": [
    "# Charger le jeu de données dans un DataFrame pandas\n",
    "df = pd.read_csv('data_film_model.csv')"
   ]
  },
  {
   "cell_type": "code",
   "execution_count": 3,
   "metadata": {},
   "outputs": [],
   "source": [
    "pd.options.display.max_columns = 150"
   ]
  },
  {
   "cell_type": "code",
   "execution_count": 4,
   "metadata": {},
   "outputs": [
    {
     "data": {
      "text/plain": [
       "Index(['Unnamed: 0', 'title', 'nationality', 'box_office_first_week',\n",
       "       'press_eval', 'viewers_eval', 'budget', 'duration_minutes', 'season',\n",
       "       'year', 'action', 'animation', 'arts martiaux', 'aventure', 'biopic',\n",
       "       'bollywood', 'comédie', 'comédie dramatique', 'comédie musicale',\n",
       "       'divers', 'drame', 'epouvante-horreur', 'erotique', 'espionnage',\n",
       "       'expérimental', 'famille', 'fantastique', 'guerre', 'historique',\n",
       "       'judiciaire', 'musical', 'policier', 'péplum', 'romance',\n",
       "       'science fiction', 'sport event', 'thriller', 'western',\n",
       "       'stars_producers_director', 'nombre_acteurs_connus',\n",
       "       'distributor_important'],\n",
       "      dtype='object')"
      ]
     },
     "execution_count": 4,
     "metadata": {},
     "output_type": "execute_result"
    }
   ],
   "source": [
    "df.columns"
   ]
  },
  {
   "cell_type": "code",
   "execution_count": 5,
   "metadata": {},
   "outputs": [
    {
     "data": {
      "text/html": [
       "<div>\n",
       "<style scoped>\n",
       "    .dataframe tbody tr th:only-of-type {\n",
       "        vertical-align: middle;\n",
       "    }\n",
       "\n",
       "    .dataframe tbody tr th {\n",
       "        vertical-align: top;\n",
       "    }\n",
       "\n",
       "    .dataframe thead th {\n",
       "        text-align: right;\n",
       "    }\n",
       "</style>\n",
       "<table border=\"1\" class=\"dataframe\">\n",
       "  <thead>\n",
       "    <tr style=\"text-align: right;\">\n",
       "      <th></th>\n",
       "      <th>Unnamed: 0</th>\n",
       "      <th>title</th>\n",
       "      <th>nationality</th>\n",
       "      <th>box_office_first_week</th>\n",
       "      <th>press_eval</th>\n",
       "      <th>viewers_eval</th>\n",
       "      <th>budget</th>\n",
       "      <th>duration_minutes</th>\n",
       "      <th>season</th>\n",
       "      <th>year</th>\n",
       "      <th>action</th>\n",
       "      <th>animation</th>\n",
       "      <th>arts martiaux</th>\n",
       "      <th>aventure</th>\n",
       "      <th>biopic</th>\n",
       "      <th>bollywood</th>\n",
       "      <th>comédie</th>\n",
       "      <th>comédie dramatique</th>\n",
       "      <th>comédie musicale</th>\n",
       "      <th>divers</th>\n",
       "      <th>drame</th>\n",
       "      <th>epouvante-horreur</th>\n",
       "      <th>erotique</th>\n",
       "      <th>espionnage</th>\n",
       "      <th>expérimental</th>\n",
       "      <th>famille</th>\n",
       "      <th>fantastique</th>\n",
       "      <th>guerre</th>\n",
       "      <th>historique</th>\n",
       "      <th>judiciaire</th>\n",
       "      <th>musical</th>\n",
       "      <th>policier</th>\n",
       "      <th>péplum</th>\n",
       "      <th>romance</th>\n",
       "      <th>science fiction</th>\n",
       "      <th>sport event</th>\n",
       "      <th>thriller</th>\n",
       "      <th>western</th>\n",
       "      <th>stars_producers_director</th>\n",
       "      <th>nombre_acteurs_connus</th>\n",
       "      <th>distributor_important</th>\n",
       "    </tr>\n",
       "  </thead>\n",
       "  <tbody>\n",
       "    <tr>\n",
       "      <th>0</th>\n",
       "      <td>0</td>\n",
       "      <td>guardians of the galaxy vol. 3</td>\n",
       "      <td>U.S.A.</td>\n",
       "      <td>1323124</td>\n",
       "      <td>3.6</td>\n",
       "      <td>4.2</td>\n",
       "      <td>250000000.0</td>\n",
       "      <td>150</td>\n",
       "      <td>printemps</td>\n",
       "      <td>2023</td>\n",
       "      <td>1</td>\n",
       "      <td>0</td>\n",
       "      <td>0</td>\n",
       "      <td>0</td>\n",
       "      <td>0</td>\n",
       "      <td>0</td>\n",
       "      <td>0</td>\n",
       "      <td>0</td>\n",
       "      <td>0</td>\n",
       "      <td>0</td>\n",
       "      <td>0</td>\n",
       "      <td>0</td>\n",
       "      <td>0</td>\n",
       "      <td>0</td>\n",
       "      <td>0</td>\n",
       "      <td>0</td>\n",
       "      <td>0</td>\n",
       "      <td>0</td>\n",
       "      <td>0</td>\n",
       "      <td>0</td>\n",
       "      <td>0</td>\n",
       "      <td>0</td>\n",
       "      <td>0</td>\n",
       "      <td>0</td>\n",
       "      <td>0</td>\n",
       "      <td>0</td>\n",
       "      <td>0</td>\n",
       "      <td>0</td>\n",
       "      <td>0.0</td>\n",
       "      <td>2</td>\n",
       "      <td>True</td>\n",
       "    </tr>\n",
       "  </tbody>\n",
       "</table>\n",
       "</div>"
      ],
      "text/plain": [
       "   Unnamed: 0                           title nationality  \\\n",
       "0           0  guardians of the galaxy vol. 3      U.S.A.   \n",
       "\n",
       "   box_office_first_week  press_eval  viewers_eval       budget  \\\n",
       "0                1323124         3.6           4.2  250000000.0   \n",
       "\n",
       "   duration_minutes     season  year  action  animation  arts martiaux  \\\n",
       "0               150  printemps  2023       1          0              0   \n",
       "\n",
       "   aventure  biopic  bollywood  comédie  comédie dramatique  comédie musicale  \\\n",
       "0         0       0          0        0                   0                 0   \n",
       "\n",
       "   divers  drame  epouvante-horreur  erotique  espionnage  expérimental  \\\n",
       "0       0      0                  0         0           0             0   \n",
       "\n",
       "   famille  fantastique  guerre  historique  judiciaire  musical  policier  \\\n",
       "0        0            0       0           0           0        0         0   \n",
       "\n",
       "   péplum  romance  science fiction  sport event  thriller  western  \\\n",
       "0       0        0                0            0         0        0   \n",
       "\n",
       "   stars_producers_director  nombre_acteurs_connus  distributor_important  \n",
       "0                       0.0                      2                   True  "
      ]
     },
     "execution_count": 5,
     "metadata": {},
     "output_type": "execute_result"
    }
   ],
   "source": [
    "df.head(1)"
   ]
  },
  {
   "cell_type": "code",
   "execution_count": 6,
   "metadata": {},
   "outputs": [
    {
     "name": "stdout",
     "output_type": "stream",
     "text": [
      "<class 'pandas.core.frame.DataFrame'>\n",
      "RangeIndex: 13250 entries, 0 to 13249\n",
      "Data columns (total 41 columns):\n",
      " #   Column                    Non-Null Count  Dtype  \n",
      "---  ------                    --------------  -----  \n",
      " 0   Unnamed: 0                13250 non-null  int64  \n",
      " 1   title                     13250 non-null  object \n",
      " 2   nationality               13250 non-null  object \n",
      " 3   box_office_first_week     13250 non-null  int64  \n",
      " 4   press_eval                13250 non-null  float64\n",
      " 5   viewers_eval              13250 non-null  float64\n",
      " 6   budget                    13250 non-null  float64\n",
      " 7   duration_minutes          13250 non-null  int64  \n",
      " 8   season                    13250 non-null  object \n",
      " 9   year                      13250 non-null  int64  \n",
      " 10  action                    13250 non-null  int64  \n",
      " 11  animation                 13250 non-null  int64  \n",
      " 12  arts martiaux             13250 non-null  int64  \n",
      " 13  aventure                  13250 non-null  int64  \n",
      " 14  biopic                    13250 non-null  int64  \n",
      " 15  bollywood                 13250 non-null  int64  \n",
      " 16  comédie                   13250 non-null  int64  \n",
      " 17  comédie dramatique        13250 non-null  int64  \n",
      " 18  comédie musicale          13250 non-null  int64  \n",
      " 19  divers                    13250 non-null  int64  \n",
      " 20  drame                     13250 non-null  int64  \n",
      " 21  epouvante-horreur         13250 non-null  int64  \n",
      " 22  erotique                  13250 non-null  int64  \n",
      " 23  espionnage                13250 non-null  int64  \n",
      " 24  expérimental              13250 non-null  int64  \n",
      " 25  famille                   13250 non-null  int64  \n",
      " 26  fantastique               13250 non-null  int64  \n",
      " 27  guerre                    13250 non-null  int64  \n",
      " 28  historique                13250 non-null  int64  \n",
      " 29  judiciaire                13250 non-null  int64  \n",
      " 30  musical                   13250 non-null  int64  \n",
      " 31  policier                  13250 non-null  int64  \n",
      " 32  péplum                    13250 non-null  int64  \n",
      " 33  romance                   13250 non-null  int64  \n",
      " 34  science fiction           13250 non-null  int64  \n",
      " 35  sport event               13250 non-null  int64  \n",
      " 36  thriller                  13250 non-null  int64  \n",
      " 37  western                   13250 non-null  int64  \n",
      " 38  stars_producers_director  13250 non-null  float64\n",
      " 39  nombre_acteurs_connus     13250 non-null  int64  \n",
      " 40  distributor_important     13250 non-null  bool   \n",
      "dtypes: bool(1), float64(4), int64(33), object(3)\n",
      "memory usage: 4.1+ MB\n"
     ]
    }
   ],
   "source": [
    "df.info()"
   ]
  },
  {
   "cell_type": "code",
   "execution_count": 7,
   "metadata": {},
   "outputs": [
    {
     "data": {
      "text/plain": [
       "Index(['Unnamed: 0', 'title', 'nationality', 'box_office_first_week',\n",
       "       'press_eval', 'viewers_eval', 'budget', 'duration_minutes', 'season',\n",
       "       'year', 'action', 'animation', 'arts martiaux', 'aventure', 'biopic',\n",
       "       'bollywood', 'comédie', 'comédie dramatique', 'comédie musicale',\n",
       "       'divers', 'drame', 'epouvante-horreur', 'erotique', 'espionnage',\n",
       "       'expérimental', 'famille', 'fantastique', 'guerre', 'historique',\n",
       "       'judiciaire', 'musical', 'policier', 'péplum', 'romance',\n",
       "       'science fiction', 'sport event', 'thriller', 'western',\n",
       "       'stars_producers_director', 'nombre_acteurs_connus',\n",
       "       'distributor_important'],\n",
       "      dtype='object')"
      ]
     },
     "execution_count": 7,
     "metadata": {},
     "output_type": "execute_result"
    }
   ],
   "source": [
    "df.columns"
   ]
  },
  {
   "cell_type": "code",
   "execution_count": 8,
   "metadata": {},
   "outputs": [
    {
     "name": "stdout",
     "output_type": "stream",
     "text": [
      "False    13250\n",
      "Name: count, dtype: int64\n"
     ]
    }
   ],
   "source": [
    "print(df.duplicated().value_counts())"
   ]
  },
  {
   "cell_type": "markdown",
   "metadata": {},
   "source": [
    "### Train/Test/Split"
   ]
  },
  {
   "cell_type": "code",
   "execution_count": 9,
   "metadata": {},
   "outputs": [],
   "source": [
    "X = df.drop(['Unnamed: 0', 'title', 'press_eval', 'viewers_eval','year','stars_producers_director','box_office_first_week'],axis=1)\n",
    "y = df['box_office_first_week']\n",
    "X_train, X_test, y_train, y_test = train_test_split(X, y, train_size=0.8, shuffle=True, random_state=42)"
   ]
  },
  {
   "cell_type": "code",
   "execution_count": 10,
   "metadata": {},
   "outputs": [
    {
     "name": "stdout",
     "output_type": "stream",
     "text": [
      "Train set: (10600, 34)\n",
      "Test set: (2650, 34)\n"
     ]
    }
   ],
   "source": [
    "print('Train set:', X_train.shape)\n",
    "print('Test set:', X_test.shape)"
   ]
  },
  {
   "cell_type": "code",
   "execution_count": 11,
   "metadata": {},
   "outputs": [
    {
     "data": {
      "text/plain": [
       "Index(['nationality', 'budget', 'duration_minutes', 'season', 'action',\n",
       "       'animation', 'arts martiaux', 'aventure', 'biopic', 'bollywood',\n",
       "       'comédie', 'comédie dramatique', 'comédie musicale', 'divers', 'drame',\n",
       "       'epouvante-horreur', 'erotique', 'espionnage', 'expérimental',\n",
       "       'famille', 'fantastique', 'guerre', 'historique', 'judiciaire',\n",
       "       'musical', 'policier', 'péplum', 'romance', 'science fiction',\n",
       "       'sport event', 'thriller', 'western', 'nombre_acteurs_connus',\n",
       "       'distributor_important'],\n",
       "      dtype='object')"
      ]
     },
     "execution_count": 11,
     "metadata": {},
     "output_type": "execute_result"
    }
   ],
   "source": [
    "X.columns"
   ]
  },
  {
   "cell_type": "code",
   "execution_count": 12,
   "metadata": {},
   "outputs": [
    {
     "name": "stdout",
     "output_type": "stream",
     "text": [
      "<class 'pandas.core.frame.DataFrame'>\n",
      "RangeIndex: 13250 entries, 0 to 13249\n",
      "Data columns (total 34 columns):\n",
      " #   Column                 Non-Null Count  Dtype  \n",
      "---  ------                 --------------  -----  \n",
      " 0   nationality            13250 non-null  object \n",
      " 1   budget                 13250 non-null  float64\n",
      " 2   duration_minutes       13250 non-null  int64  \n",
      " 3   season                 13250 non-null  object \n",
      " 4   action                 13250 non-null  int64  \n",
      " 5   animation              13250 non-null  int64  \n",
      " 6   arts martiaux          13250 non-null  int64  \n",
      " 7   aventure               13250 non-null  int64  \n",
      " 8   biopic                 13250 non-null  int64  \n",
      " 9   bollywood              13250 non-null  int64  \n",
      " 10  comédie                13250 non-null  int64  \n",
      " 11  comédie dramatique     13250 non-null  int64  \n",
      " 12  comédie musicale       13250 non-null  int64  \n",
      " 13  divers                 13250 non-null  int64  \n",
      " 14  drame                  13250 non-null  int64  \n",
      " 15  epouvante-horreur      13250 non-null  int64  \n",
      " 16  erotique               13250 non-null  int64  \n",
      " 17  espionnage             13250 non-null  int64  \n",
      " 18  expérimental           13250 non-null  int64  \n",
      " 19  famille                13250 non-null  int64  \n",
      " 20  fantastique            13250 non-null  int64  \n",
      " 21  guerre                 13250 non-null  int64  \n",
      " 22  historique             13250 non-null  int64  \n",
      " 23  judiciaire             13250 non-null  int64  \n",
      " 24  musical                13250 non-null  int64  \n",
      " 25  policier               13250 non-null  int64  \n",
      " 26  péplum                 13250 non-null  int64  \n",
      " 27  romance                13250 non-null  int64  \n",
      " 28  science fiction        13250 non-null  int64  \n",
      " 29  sport event            13250 non-null  int64  \n",
      " 30  thriller               13250 non-null  int64  \n",
      " 31  western                13250 non-null  int64  \n",
      " 32  nombre_acteurs_connus  13250 non-null  int64  \n",
      " 33  distributor_important  13250 non-null  bool   \n",
      "dtypes: bool(1), float64(1), int64(30), object(2)\n",
      "memory usage: 3.3+ MB\n"
     ]
    }
   ],
   "source": [
    "X.info()"
   ]
  },
  {
   "cell_type": "code",
   "execution_count": 13,
   "metadata": {},
   "outputs": [
    {
     "data": {
      "text/plain": [
       "nationality              0\n",
       "budget                   0\n",
       "duration_minutes         0\n",
       "season                   0\n",
       "action                   0\n",
       "animation                0\n",
       "arts martiaux            0\n",
       "aventure                 0\n",
       "biopic                   0\n",
       "bollywood                0\n",
       "comédie                  0\n",
       "comédie dramatique       0\n",
       "comédie musicale         0\n",
       "divers                   0\n",
       "drame                    0\n",
       "epouvante-horreur        0\n",
       "erotique                 0\n",
       "espionnage               0\n",
       "expérimental             0\n",
       "famille                  0\n",
       "fantastique              0\n",
       "guerre                   0\n",
       "historique               0\n",
       "judiciaire               0\n",
       "musical                  0\n",
       "policier                 0\n",
       "péplum                   0\n",
       "romance                  0\n",
       "science fiction          0\n",
       "sport event              0\n",
       "thriller                 0\n",
       "western                  0\n",
       "nombre_acteurs_connus    0\n",
       "distributor_important    0\n",
       "dtype: int64"
      ]
     },
     "execution_count": 13,
     "metadata": {},
     "output_type": "execute_result"
    }
   ],
   "source": [
    "X.isnull().sum()"
   ]
  },
  {
   "cell_type": "code",
   "execution_count": 14,
   "metadata": {},
   "outputs": [
    {
     "data": {
      "text/html": [
       "<div>\n",
       "<style scoped>\n",
       "    .dataframe tbody tr th:only-of-type {\n",
       "        vertical-align: middle;\n",
       "    }\n",
       "\n",
       "    .dataframe tbody tr th {\n",
       "        vertical-align: top;\n",
       "    }\n",
       "\n",
       "    .dataframe thead th {\n",
       "        text-align: right;\n",
       "    }\n",
       "</style>\n",
       "<table border=\"1\" class=\"dataframe\">\n",
       "  <thead>\n",
       "    <tr style=\"text-align: right;\">\n",
       "      <th></th>\n",
       "      <th>nationality</th>\n",
       "      <th>budget</th>\n",
       "      <th>duration_minutes</th>\n",
       "      <th>season</th>\n",
       "      <th>action</th>\n",
       "      <th>animation</th>\n",
       "      <th>arts martiaux</th>\n",
       "      <th>aventure</th>\n",
       "      <th>biopic</th>\n",
       "      <th>bollywood</th>\n",
       "      <th>comédie</th>\n",
       "      <th>comédie dramatique</th>\n",
       "      <th>comédie musicale</th>\n",
       "      <th>divers</th>\n",
       "      <th>drame</th>\n",
       "      <th>epouvante-horreur</th>\n",
       "      <th>erotique</th>\n",
       "      <th>espionnage</th>\n",
       "      <th>expérimental</th>\n",
       "      <th>famille</th>\n",
       "      <th>fantastique</th>\n",
       "      <th>guerre</th>\n",
       "      <th>historique</th>\n",
       "      <th>judiciaire</th>\n",
       "      <th>musical</th>\n",
       "      <th>policier</th>\n",
       "      <th>péplum</th>\n",
       "      <th>romance</th>\n",
       "      <th>science fiction</th>\n",
       "      <th>sport event</th>\n",
       "      <th>thriller</th>\n",
       "      <th>western</th>\n",
       "      <th>nombre_acteurs_connus</th>\n",
       "      <th>distributor_important</th>\n",
       "    </tr>\n",
       "  </thead>\n",
       "  <tbody>\n",
       "    <tr>\n",
       "      <th>0</th>\n",
       "      <td>U.S.A.</td>\n",
       "      <td>250000000.0</td>\n",
       "      <td>150</td>\n",
       "      <td>printemps</td>\n",
       "      <td>1</td>\n",
       "      <td>0</td>\n",
       "      <td>0</td>\n",
       "      <td>0</td>\n",
       "      <td>0</td>\n",
       "      <td>0</td>\n",
       "      <td>0</td>\n",
       "      <td>0</td>\n",
       "      <td>0</td>\n",
       "      <td>0</td>\n",
       "      <td>0</td>\n",
       "      <td>0</td>\n",
       "      <td>0</td>\n",
       "      <td>0</td>\n",
       "      <td>0</td>\n",
       "      <td>0</td>\n",
       "      <td>0</td>\n",
       "      <td>0</td>\n",
       "      <td>0</td>\n",
       "      <td>0</td>\n",
       "      <td>0</td>\n",
       "      <td>0</td>\n",
       "      <td>0</td>\n",
       "      <td>0</td>\n",
       "      <td>0</td>\n",
       "      <td>0</td>\n",
       "      <td>0</td>\n",
       "      <td>0</td>\n",
       "      <td>2</td>\n",
       "      <td>True</td>\n",
       "    </tr>\n",
       "    <tr>\n",
       "      <th>1</th>\n",
       "      <td>U.S.A.</td>\n",
       "      <td>250000000.0</td>\n",
       "      <td>150</td>\n",
       "      <td>printemps</td>\n",
       "      <td>0</td>\n",
       "      <td>0</td>\n",
       "      <td>0</td>\n",
       "      <td>0</td>\n",
       "      <td>0</td>\n",
       "      <td>0</td>\n",
       "      <td>0</td>\n",
       "      <td>0</td>\n",
       "      <td>0</td>\n",
       "      <td>0</td>\n",
       "      <td>0</td>\n",
       "      <td>0</td>\n",
       "      <td>0</td>\n",
       "      <td>0</td>\n",
       "      <td>0</td>\n",
       "      <td>0</td>\n",
       "      <td>1</td>\n",
       "      <td>0</td>\n",
       "      <td>0</td>\n",
       "      <td>0</td>\n",
       "      <td>0</td>\n",
       "      <td>0</td>\n",
       "      <td>0</td>\n",
       "      <td>0</td>\n",
       "      <td>0</td>\n",
       "      <td>0</td>\n",
       "      <td>0</td>\n",
       "      <td>0</td>\n",
       "      <td>2</td>\n",
       "      <td>True</td>\n",
       "    </tr>\n",
       "    <tr>\n",
       "      <th>2</th>\n",
       "      <td>U.S.A.</td>\n",
       "      <td>250000000.0</td>\n",
       "      <td>150</td>\n",
       "      <td>printemps</td>\n",
       "      <td>0</td>\n",
       "      <td>0</td>\n",
       "      <td>0</td>\n",
       "      <td>0</td>\n",
       "      <td>0</td>\n",
       "      <td>0</td>\n",
       "      <td>0</td>\n",
       "      <td>0</td>\n",
       "      <td>0</td>\n",
       "      <td>0</td>\n",
       "      <td>0</td>\n",
       "      <td>0</td>\n",
       "      <td>0</td>\n",
       "      <td>0</td>\n",
       "      <td>0</td>\n",
       "      <td>0</td>\n",
       "      <td>0</td>\n",
       "      <td>0</td>\n",
       "      <td>0</td>\n",
       "      <td>0</td>\n",
       "      <td>0</td>\n",
       "      <td>0</td>\n",
       "      <td>0</td>\n",
       "      <td>0</td>\n",
       "      <td>1</td>\n",
       "      <td>0</td>\n",
       "      <td>0</td>\n",
       "      <td>0</td>\n",
       "      <td>2</td>\n",
       "      <td>True</td>\n",
       "    </tr>\n",
       "    <tr>\n",
       "      <th>3</th>\n",
       "      <td>France</td>\n",
       "      <td>6000000.0</td>\n",
       "      <td>80</td>\n",
       "      <td>été</td>\n",
       "      <td>0</td>\n",
       "      <td>0</td>\n",
       "      <td>0</td>\n",
       "      <td>0</td>\n",
       "      <td>0</td>\n",
       "      <td>0</td>\n",
       "      <td>1</td>\n",
       "      <td>0</td>\n",
       "      <td>0</td>\n",
       "      <td>0</td>\n",
       "      <td>0</td>\n",
       "      <td>0</td>\n",
       "      <td>0</td>\n",
       "      <td>0</td>\n",
       "      <td>0</td>\n",
       "      <td>0</td>\n",
       "      <td>0</td>\n",
       "      <td>0</td>\n",
       "      <td>0</td>\n",
       "      <td>0</td>\n",
       "      <td>0</td>\n",
       "      <td>0</td>\n",
       "      <td>0</td>\n",
       "      <td>0</td>\n",
       "      <td>0</td>\n",
       "      <td>0</td>\n",
       "      <td>0</td>\n",
       "      <td>0</td>\n",
       "      <td>1</td>\n",
       "      <td>False</td>\n",
       "    </tr>\n",
       "    <tr>\n",
       "      <th>4</th>\n",
       "      <td>Argentine</td>\n",
       "      <td>29000000.0</td>\n",
       "      <td>94</td>\n",
       "      <td>été</td>\n",
       "      <td>0</td>\n",
       "      <td>0</td>\n",
       "      <td>0</td>\n",
       "      <td>0</td>\n",
       "      <td>0</td>\n",
       "      <td>0</td>\n",
       "      <td>0</td>\n",
       "      <td>0</td>\n",
       "      <td>0</td>\n",
       "      <td>0</td>\n",
       "      <td>1</td>\n",
       "      <td>0</td>\n",
       "      <td>0</td>\n",
       "      <td>0</td>\n",
       "      <td>0</td>\n",
       "      <td>0</td>\n",
       "      <td>0</td>\n",
       "      <td>0</td>\n",
       "      <td>0</td>\n",
       "      <td>0</td>\n",
       "      <td>0</td>\n",
       "      <td>0</td>\n",
       "      <td>0</td>\n",
       "      <td>0</td>\n",
       "      <td>0</td>\n",
       "      <td>0</td>\n",
       "      <td>0</td>\n",
       "      <td>0</td>\n",
       "      <td>0</td>\n",
       "      <td>True</td>\n",
       "    </tr>\n",
       "  </tbody>\n",
       "</table>\n",
       "</div>"
      ],
      "text/plain": [
       "  nationality       budget  duration_minutes     season  action  animation  \\\n",
       "0      U.S.A.  250000000.0               150  printemps       1          0   \n",
       "1      U.S.A.  250000000.0               150  printemps       0          0   \n",
       "2      U.S.A.  250000000.0               150  printemps       0          0   \n",
       "3      France    6000000.0                80        été       0          0   \n",
       "4   Argentine   29000000.0                94        été       0          0   \n",
       "\n",
       "   arts martiaux  aventure  biopic  bollywood  comédie  comédie dramatique  \\\n",
       "0              0         0       0          0        0                   0   \n",
       "1              0         0       0          0        0                   0   \n",
       "2              0         0       0          0        0                   0   \n",
       "3              0         0       0          0        1                   0   \n",
       "4              0         0       0          0        0                   0   \n",
       "\n",
       "   comédie musicale  divers  drame  epouvante-horreur  erotique  espionnage  \\\n",
       "0                 0       0      0                  0         0           0   \n",
       "1                 0       0      0                  0         0           0   \n",
       "2                 0       0      0                  0         0           0   \n",
       "3                 0       0      0                  0         0           0   \n",
       "4                 0       0      1                  0         0           0   \n",
       "\n",
       "   expérimental  famille  fantastique  guerre  historique  judiciaire  \\\n",
       "0             0        0            0       0           0           0   \n",
       "1             0        0            1       0           0           0   \n",
       "2             0        0            0       0           0           0   \n",
       "3             0        0            0       0           0           0   \n",
       "4             0        0            0       0           0           0   \n",
       "\n",
       "   musical  policier  péplum  romance  science fiction  sport event  thriller  \\\n",
       "0        0         0       0        0                0            0         0   \n",
       "1        0         0       0        0                0            0         0   \n",
       "2        0         0       0        0                1            0         0   \n",
       "3        0         0       0        0                0            0         0   \n",
       "4        0         0       0        0                0            0         0   \n",
       "\n",
       "   western  nombre_acteurs_connus  distributor_important  \n",
       "0        0                      2                   True  \n",
       "1        0                      2                   True  \n",
       "2        0                      2                   True  \n",
       "3        0                      1                  False  \n",
       "4        0                      0                   True  "
      ]
     },
     "execution_count": 14,
     "metadata": {},
     "output_type": "execute_result"
    }
   ],
   "source": [
    "X.head()"
   ]
  },
  {
   "cell_type": "markdown",
   "metadata": {},
   "source": [
    "### Pipeline"
   ]
  },
  {
   "cell_type": "code",
   "execution_count": 15,
   "metadata": {},
   "outputs": [],
   "source": [
    "# Définir les paramètres du préprocesseur\n",
    "numerical_features = ['duration_minutes',  'nombre_acteurs_connus', 'budget']\n",
    "categorical_features = ['nationality', 'season']"
   ]
  },
  {
   "cell_type": "code",
   "execution_count": 16,
   "metadata": {},
   "outputs": [],
   "source": [
    "# Création de pipelines\n",
    "numerical_transformer = StandardScaler()\n",
    "categorical_transformer = OneHotEncoder()\n"
   ]
  },
  {
   "cell_type": "markdown",
   "metadata": {},
   "source": [
    "### Preprocessing"
   ]
  },
  {
   "cell_type": "code",
   "execution_count": 17,
   "metadata": {},
   "outputs": [
    {
     "data": {
      "text/plain": [
       "'\\nSi pour un type de variable, on a pas de transformer, il faut utiliser\\nremainder=\"passthrough\"      \\n'"
      ]
     },
     "execution_count": 17,
     "metadata": {},
     "output_type": "execute_result"
    }
   ],
   "source": [
    "# Création d'un Préprocessor pour appliquer les pipelines crées pour les transfomations sur les colonnes\n",
    "preprocessing = ColumnTransformer(\n",
    "    transformers=[\n",
    "        ('num', numerical_transformer, numerical_features),\n",
    "        ('cat', categorical_transformer, categorical_features)\n",
    "    ],\n",
    "    remainder=\"passthrough\"\n",
    ")\n",
    "\n",
    "\"\"\"\n",
    "Si pour un type de variable, on a pas de transformer, il faut utiliser\n",
    "remainder=\"passthrough\"      \n",
    "\"\"\"\n"
   ]
  },
  {
   "cell_type": "markdown",
   "metadata": {},
   "source": [
    "### Régression Linéaire"
   ]
  },
  {
   "cell_type": "code",
   "execution_count": 18,
   "metadata": {},
   "outputs": [
    {
     "data": {
      "text/html": [
       "<style>#sk-container-id-1 {color: black;}#sk-container-id-1 pre{padding: 0;}#sk-container-id-1 div.sk-toggleable {background-color: white;}#sk-container-id-1 label.sk-toggleable__label {cursor: pointer;display: block;width: 100%;margin-bottom: 0;padding: 0.3em;box-sizing: border-box;text-align: center;}#sk-container-id-1 label.sk-toggleable__label-arrow:before {content: \"▸\";float: left;margin-right: 0.25em;color: #696969;}#sk-container-id-1 label.sk-toggleable__label-arrow:hover:before {color: black;}#sk-container-id-1 div.sk-estimator:hover label.sk-toggleable__label-arrow:before {color: black;}#sk-container-id-1 div.sk-toggleable__content {max-height: 0;max-width: 0;overflow: hidden;text-align: left;background-color: #f0f8ff;}#sk-container-id-1 div.sk-toggleable__content pre {margin: 0.2em;color: black;border-radius: 0.25em;background-color: #f0f8ff;}#sk-container-id-1 input.sk-toggleable__control:checked~div.sk-toggleable__content {max-height: 200px;max-width: 100%;overflow: auto;}#sk-container-id-1 input.sk-toggleable__control:checked~label.sk-toggleable__label-arrow:before {content: \"▾\";}#sk-container-id-1 div.sk-estimator input.sk-toggleable__control:checked~label.sk-toggleable__label {background-color: #d4ebff;}#sk-container-id-1 div.sk-label input.sk-toggleable__control:checked~label.sk-toggleable__label {background-color: #d4ebff;}#sk-container-id-1 input.sk-hidden--visually {border: 0;clip: rect(1px 1px 1px 1px);clip: rect(1px, 1px, 1px, 1px);height: 1px;margin: -1px;overflow: hidden;padding: 0;position: absolute;width: 1px;}#sk-container-id-1 div.sk-estimator {font-family: monospace;background-color: #f0f8ff;border: 1px dotted black;border-radius: 0.25em;box-sizing: border-box;margin-bottom: 0.5em;}#sk-container-id-1 div.sk-estimator:hover {background-color: #d4ebff;}#sk-container-id-1 div.sk-parallel-item::after {content: \"\";width: 100%;border-bottom: 1px solid gray;flex-grow: 1;}#sk-container-id-1 div.sk-label:hover label.sk-toggleable__label {background-color: #d4ebff;}#sk-container-id-1 div.sk-serial::before {content: \"\";position: absolute;border-left: 1px solid gray;box-sizing: border-box;top: 0;bottom: 0;left: 50%;z-index: 0;}#sk-container-id-1 div.sk-serial {display: flex;flex-direction: column;align-items: center;background-color: white;padding-right: 0.2em;padding-left: 0.2em;position: relative;}#sk-container-id-1 div.sk-item {position: relative;z-index: 1;}#sk-container-id-1 div.sk-parallel {display: flex;align-items: stretch;justify-content: center;background-color: white;position: relative;}#sk-container-id-1 div.sk-item::before, #sk-container-id-1 div.sk-parallel-item::before {content: \"\";position: absolute;border-left: 1px solid gray;box-sizing: border-box;top: 0;bottom: 0;left: 50%;z-index: -1;}#sk-container-id-1 div.sk-parallel-item {display: flex;flex-direction: column;z-index: 1;position: relative;background-color: white;}#sk-container-id-1 div.sk-parallel-item:first-child::after {align-self: flex-end;width: 50%;}#sk-container-id-1 div.sk-parallel-item:last-child::after {align-self: flex-start;width: 50%;}#sk-container-id-1 div.sk-parallel-item:only-child::after {width: 0;}#sk-container-id-1 div.sk-dashed-wrapped {border: 1px dashed gray;margin: 0 0.4em 0.5em 0.4em;box-sizing: border-box;padding-bottom: 0.4em;background-color: white;}#sk-container-id-1 div.sk-label label {font-family: monospace;font-weight: bold;display: inline-block;line-height: 1.2em;}#sk-container-id-1 div.sk-label-container {text-align: center;}#sk-container-id-1 div.sk-container {/* jupyter's `normalize.less` sets `[hidden] { display: none; }` but bootstrap.min.css set `[hidden] { display: none !important; }` so we also need the `!important` here to be able to override the default hidden behavior on the sphinx rendered scikit-learn.org. See: https://github.com/scikit-learn/scikit-learn/issues/21755 */display: inline-block !important;position: relative;}#sk-container-id-1 div.sk-text-repr-fallback {display: none;}</style><div id=\"sk-container-id-1\" class=\"sk-top-container\"><div class=\"sk-text-repr-fallback\"><pre>Pipeline(steps=[(&#x27;columntransformer&#x27;,\n",
       "                 ColumnTransformer(remainder=&#x27;passthrough&#x27;,\n",
       "                                   transformers=[(&#x27;num&#x27;, StandardScaler(),\n",
       "                                                  [&#x27;duration_minutes&#x27;,\n",
       "                                                   &#x27;nombre_acteurs_connus&#x27;,\n",
       "                                                   &#x27;budget&#x27;]),\n",
       "                                                 (&#x27;cat&#x27;, OneHotEncoder(),\n",
       "                                                  [&#x27;nationality&#x27;, &#x27;season&#x27;])])),\n",
       "                (&#x27;linearregression&#x27;, LinearRegression())])</pre><b>In a Jupyter environment, please rerun this cell to show the HTML representation or trust the notebook. <br />On GitHub, the HTML representation is unable to render, please try loading this page with nbviewer.org.</b></div><div class=\"sk-container\" hidden><div class=\"sk-item sk-dashed-wrapped\"><div class=\"sk-label-container\"><div class=\"sk-label sk-toggleable\"><input class=\"sk-toggleable__control sk-hidden--visually\" id=\"sk-estimator-id-1\" type=\"checkbox\" ><label for=\"sk-estimator-id-1\" class=\"sk-toggleable__label sk-toggleable__label-arrow\">Pipeline</label><div class=\"sk-toggleable__content\"><pre>Pipeline(steps=[(&#x27;columntransformer&#x27;,\n",
       "                 ColumnTransformer(remainder=&#x27;passthrough&#x27;,\n",
       "                                   transformers=[(&#x27;num&#x27;, StandardScaler(),\n",
       "                                                  [&#x27;duration_minutes&#x27;,\n",
       "                                                   &#x27;nombre_acteurs_connus&#x27;,\n",
       "                                                   &#x27;budget&#x27;]),\n",
       "                                                 (&#x27;cat&#x27;, OneHotEncoder(),\n",
       "                                                  [&#x27;nationality&#x27;, &#x27;season&#x27;])])),\n",
       "                (&#x27;linearregression&#x27;, LinearRegression())])</pre></div></div></div><div class=\"sk-serial\"><div class=\"sk-item sk-dashed-wrapped\"><div class=\"sk-label-container\"><div class=\"sk-label sk-toggleable\"><input class=\"sk-toggleable__control sk-hidden--visually\" id=\"sk-estimator-id-2\" type=\"checkbox\" ><label for=\"sk-estimator-id-2\" class=\"sk-toggleable__label sk-toggleable__label-arrow\">columntransformer: ColumnTransformer</label><div class=\"sk-toggleable__content\"><pre>ColumnTransformer(remainder=&#x27;passthrough&#x27;,\n",
       "                  transformers=[(&#x27;num&#x27;, StandardScaler(),\n",
       "                                 [&#x27;duration_minutes&#x27;, &#x27;nombre_acteurs_connus&#x27;,\n",
       "                                  &#x27;budget&#x27;]),\n",
       "                                (&#x27;cat&#x27;, OneHotEncoder(),\n",
       "                                 [&#x27;nationality&#x27;, &#x27;season&#x27;])])</pre></div></div></div><div class=\"sk-parallel\"><div class=\"sk-parallel-item\"><div class=\"sk-item\"><div class=\"sk-label-container\"><div class=\"sk-label sk-toggleable\"><input class=\"sk-toggleable__control sk-hidden--visually\" id=\"sk-estimator-id-3\" type=\"checkbox\" ><label for=\"sk-estimator-id-3\" class=\"sk-toggleable__label sk-toggleable__label-arrow\">num</label><div class=\"sk-toggleable__content\"><pre>[&#x27;duration_minutes&#x27;, &#x27;nombre_acteurs_connus&#x27;, &#x27;budget&#x27;]</pre></div></div></div><div class=\"sk-serial\"><div class=\"sk-item\"><div class=\"sk-estimator sk-toggleable\"><input class=\"sk-toggleable__control sk-hidden--visually\" id=\"sk-estimator-id-4\" type=\"checkbox\" ><label for=\"sk-estimator-id-4\" class=\"sk-toggleable__label sk-toggleable__label-arrow\">StandardScaler</label><div class=\"sk-toggleable__content\"><pre>StandardScaler()</pre></div></div></div></div></div></div><div class=\"sk-parallel-item\"><div class=\"sk-item\"><div class=\"sk-label-container\"><div class=\"sk-label sk-toggleable\"><input class=\"sk-toggleable__control sk-hidden--visually\" id=\"sk-estimator-id-5\" type=\"checkbox\" ><label for=\"sk-estimator-id-5\" class=\"sk-toggleable__label sk-toggleable__label-arrow\">cat</label><div class=\"sk-toggleable__content\"><pre>[&#x27;nationality&#x27;, &#x27;season&#x27;]</pre></div></div></div><div class=\"sk-serial\"><div class=\"sk-item\"><div class=\"sk-estimator sk-toggleable\"><input class=\"sk-toggleable__control sk-hidden--visually\" id=\"sk-estimator-id-6\" type=\"checkbox\" ><label for=\"sk-estimator-id-6\" class=\"sk-toggleable__label sk-toggleable__label-arrow\">OneHotEncoder</label><div class=\"sk-toggleable__content\"><pre>OneHotEncoder()</pre></div></div></div></div></div></div><div class=\"sk-parallel-item\"><div class=\"sk-item\"><div class=\"sk-label-container\"><div class=\"sk-label sk-toggleable\"><input class=\"sk-toggleable__control sk-hidden--visually\" id=\"sk-estimator-id-7\" type=\"checkbox\" ><label for=\"sk-estimator-id-7\" class=\"sk-toggleable__label sk-toggleable__label-arrow\">remainder</label><div class=\"sk-toggleable__content\"><pre>[&#x27;action&#x27;, &#x27;animation&#x27;, &#x27;arts martiaux&#x27;, &#x27;aventure&#x27;, &#x27;biopic&#x27;, &#x27;bollywood&#x27;, &#x27;comédie&#x27;, &#x27;comédie dramatique&#x27;, &#x27;comédie musicale&#x27;, &#x27;divers&#x27;, &#x27;drame&#x27;, &#x27;epouvante-horreur&#x27;, &#x27;erotique&#x27;, &#x27;espionnage&#x27;, &#x27;expérimental&#x27;, &#x27;famille&#x27;, &#x27;fantastique&#x27;, &#x27;guerre&#x27;, &#x27;historique&#x27;, &#x27;judiciaire&#x27;, &#x27;musical&#x27;, &#x27;policier&#x27;, &#x27;péplum&#x27;, &#x27;romance&#x27;, &#x27;science fiction&#x27;, &#x27;sport event&#x27;, &#x27;thriller&#x27;, &#x27;western&#x27;, &#x27;distributor_important&#x27;]</pre></div></div></div><div class=\"sk-serial\"><div class=\"sk-item\"><div class=\"sk-estimator sk-toggleable\"><input class=\"sk-toggleable__control sk-hidden--visually\" id=\"sk-estimator-id-8\" type=\"checkbox\" ><label for=\"sk-estimator-id-8\" class=\"sk-toggleable__label sk-toggleable__label-arrow\">passthrough</label><div class=\"sk-toggleable__content\"><pre>passthrough</pre></div></div></div></div></div></div></div></div><div class=\"sk-item\"><div class=\"sk-estimator sk-toggleable\"><input class=\"sk-toggleable__control sk-hidden--visually\" id=\"sk-estimator-id-9\" type=\"checkbox\" ><label for=\"sk-estimator-id-9\" class=\"sk-toggleable__label sk-toggleable__label-arrow\">LinearRegression</label><div class=\"sk-toggleable__content\"><pre>LinearRegression()</pre></div></div></div></div></div></div></div>"
      ],
      "text/plain": [
       "Pipeline(steps=[('columntransformer',\n",
       "                 ColumnTransformer(remainder='passthrough',\n",
       "                                   transformers=[('num', StandardScaler(),\n",
       "                                                  ['duration_minutes',\n",
       "                                                   'nombre_acteurs_connus',\n",
       "                                                   'budget']),\n",
       "                                                 ('cat', OneHotEncoder(),\n",
       "                                                  ['nationality', 'season'])])),\n",
       "                ('linearregression', LinearRegression())])"
      ]
     },
     "execution_count": 18,
     "metadata": {},
     "output_type": "execute_result"
    }
   ],
   "source": [
    "# Modèle de Regression Linéaire\n",
    "\n",
    "\n",
    "model_lr = make_pipeline(preprocessing, LinearRegression())\n",
    "\n",
    "model_lr.fit(X_train,y_train)\n"
   ]
  },
  {
   "cell_type": "code",
   "execution_count": 19,
   "metadata": {},
   "outputs": [],
   "source": [
    "# Accéder à l'étape de mise à l'échelle à l'aide de named_steps\n",
    "linear = model_lr[-1]"
   ]
  },
  {
   "cell_type": "code",
   "execution_count": 20,
   "metadata": {},
   "outputs": [
    {
     "name": "stdout",
     "output_type": "stream",
     "text": [
      "<class 'sklearn.linear_model._base.LinearRegression'>\n"
     ]
    }
   ],
   "source": [
    "print(type(linear))"
   ]
  },
  {
   "cell_type": "code",
   "execution_count": 21,
   "metadata": {},
   "outputs": [
    {
     "name": "stdout",
     "output_type": "stream",
     "text": [
      "R² (Entraînement): 0.43\n",
      "MAE (Entraînement): 147432.14\n",
      "R² (Test): 0.43\n",
      "MAE (Test): 155216.88\n"
     ]
    }
   ],
   "source": [
    "\n",
    "# Prédictions sur les ensembles d'entraînement et de test\n",
    "y_train_pred = model_lr.predict(X_train)\n",
    "y_test_pred = model_lr.predict(X_test)\n",
    "\n",
    "# Calculer R² et MAE pour l'ensemble d'entraînement\n",
    "r2_train = r2_score(y_train, y_train_pred)\n",
    "mae_train = mean_absolute_error(y_train, y_train_pred)\n",
    "\n",
    "# Calculer R² et MAE pour l'ensemble de test\n",
    "r2_test = r2_score(y_test, y_test_pred)\n",
    "mae_test = mean_absolute_error(y_test, y_test_pred)\n",
    "\n",
    "# Afficher les résultats\n",
    "print(f'R² (Entraînement): {r2_train:.2f}')\n",
    "print(f'MAE (Entraînement): {mae_train:.2f}')\n",
    "print(f'R² (Test): {r2_test:.2f}')\n",
    "print(f'MAE (Test): {mae_test:.2f}')"
   ]
  },
  {
   "cell_type": "code",
   "execution_count": 22,
   "metadata": {},
   "outputs": [
    {
     "data": {
      "text/plain": [
       "0.43432408772234565"
      ]
     },
     "execution_count": 22,
     "metadata": {},
     "output_type": "execute_result"
    }
   ],
   "source": [
    "model_lr.score(X_train, y_train)"
   ]
  },
  {
   "cell_type": "code",
   "execution_count": 23,
   "metadata": {},
   "outputs": [],
   "source": [
    "y_pred = model_lr.predict(X_train)"
   ]
  },
  {
   "cell_type": "code",
   "execution_count": 24,
   "metadata": {},
   "outputs": [
    {
     "name": "stdout",
     "output_type": "stream",
     "text": [
      "R² : 0.43\n"
     ]
    }
   ],
   "source": [
    "# Calcul du R²\n",
    "r2 = r2_score(y_train, y_pred)\n",
    "print(\"R² : %.2f\" % r2)"
   ]
  },
  {
   "cell_type": "code",
   "execution_count": 25,
   "metadata": {},
   "outputs": [
    {
     "name": "stdout",
     "output_type": "stream",
     "text": [
      "MAE : 147432.14\n"
     ]
    }
   ],
   "source": [
    "# Calcul du MAE\n",
    "mae = mean_absolute_error(y_train, y_pred)\n",
    "print(\"MAE : %.2f\" % mae)"
   ]
  },
  {
   "cell_type": "code",
   "execution_count": 26,
   "metadata": {},
   "outputs": [],
   "source": [
    "y_pred = model_lr.predict(X_train)"
   ]
  },
  {
   "cell_type": "code",
   "execution_count": 27,
   "metadata": {},
   "outputs": [],
   "source": [
    "# Faire des prédictions sur les données de test\n",
    "y_pred = model_lr.predict(X_test)\n",
    "\n",
    "y_pred_train = model_lr.predict(X_train)"
   ]
  },
  {
   "cell_type": "code",
   "execution_count": 28,
   "metadata": {},
   "outputs": [
    {
     "name": "stdout",
     "output_type": "stream",
     "text": [
      "R-squared (R2) : \n",
      "TRAIN : 0.43432408772234565\n",
      "TEST : 0.42796617040034446\n"
     ]
    }
   ],
   "source": [
    "print(\"R-squared (R2) : \")\n",
    "print(\"TRAIN :\", r2_score(y_train, y_pred_train))\n",
    "print(\"TEST :\", r2_score(y_test, y_pred))"
   ]
  },
  {
   "cell_type": "markdown",
   "metadata": {},
   "source": [
    "### XGBoost"
   ]
  },
  {
   "cell_type": "code",
   "execution_count": 29,
   "metadata": {},
   "outputs": [],
   "source": [
    "# Définition de la grille de paramètres\n",
    "params = {\n",
    "    'n_estimators': 200,\n",
    "    'max_depth': 3,\n",
    "    'learning_rate': 0.2\n",
    "}"
   ]
  },
  {
   "cell_type": "code",
   "execution_count": 30,
   "metadata": {},
   "outputs": [
    {
     "data": {
      "text/html": [
       "<style>#sk-container-id-2 {color: black;}#sk-container-id-2 pre{padding: 0;}#sk-container-id-2 div.sk-toggleable {background-color: white;}#sk-container-id-2 label.sk-toggleable__label {cursor: pointer;display: block;width: 100%;margin-bottom: 0;padding: 0.3em;box-sizing: border-box;text-align: center;}#sk-container-id-2 label.sk-toggleable__label-arrow:before {content: \"▸\";float: left;margin-right: 0.25em;color: #696969;}#sk-container-id-2 label.sk-toggleable__label-arrow:hover:before {color: black;}#sk-container-id-2 div.sk-estimator:hover label.sk-toggleable__label-arrow:before {color: black;}#sk-container-id-2 div.sk-toggleable__content {max-height: 0;max-width: 0;overflow: hidden;text-align: left;background-color: #f0f8ff;}#sk-container-id-2 div.sk-toggleable__content pre {margin: 0.2em;color: black;border-radius: 0.25em;background-color: #f0f8ff;}#sk-container-id-2 input.sk-toggleable__control:checked~div.sk-toggleable__content {max-height: 200px;max-width: 100%;overflow: auto;}#sk-container-id-2 input.sk-toggleable__control:checked~label.sk-toggleable__label-arrow:before {content: \"▾\";}#sk-container-id-2 div.sk-estimator input.sk-toggleable__control:checked~label.sk-toggleable__label {background-color: #d4ebff;}#sk-container-id-2 div.sk-label input.sk-toggleable__control:checked~label.sk-toggleable__label {background-color: #d4ebff;}#sk-container-id-2 input.sk-hidden--visually {border: 0;clip: rect(1px 1px 1px 1px);clip: rect(1px, 1px, 1px, 1px);height: 1px;margin: -1px;overflow: hidden;padding: 0;position: absolute;width: 1px;}#sk-container-id-2 div.sk-estimator {font-family: monospace;background-color: #f0f8ff;border: 1px dotted black;border-radius: 0.25em;box-sizing: border-box;margin-bottom: 0.5em;}#sk-container-id-2 div.sk-estimator:hover {background-color: #d4ebff;}#sk-container-id-2 div.sk-parallel-item::after {content: \"\";width: 100%;border-bottom: 1px solid gray;flex-grow: 1;}#sk-container-id-2 div.sk-label:hover label.sk-toggleable__label {background-color: #d4ebff;}#sk-container-id-2 div.sk-serial::before {content: \"\";position: absolute;border-left: 1px solid gray;box-sizing: border-box;top: 0;bottom: 0;left: 50%;z-index: 0;}#sk-container-id-2 div.sk-serial {display: flex;flex-direction: column;align-items: center;background-color: white;padding-right: 0.2em;padding-left: 0.2em;position: relative;}#sk-container-id-2 div.sk-item {position: relative;z-index: 1;}#sk-container-id-2 div.sk-parallel {display: flex;align-items: stretch;justify-content: center;background-color: white;position: relative;}#sk-container-id-2 div.sk-item::before, #sk-container-id-2 div.sk-parallel-item::before {content: \"\";position: absolute;border-left: 1px solid gray;box-sizing: border-box;top: 0;bottom: 0;left: 50%;z-index: -1;}#sk-container-id-2 div.sk-parallel-item {display: flex;flex-direction: column;z-index: 1;position: relative;background-color: white;}#sk-container-id-2 div.sk-parallel-item:first-child::after {align-self: flex-end;width: 50%;}#sk-container-id-2 div.sk-parallel-item:last-child::after {align-self: flex-start;width: 50%;}#sk-container-id-2 div.sk-parallel-item:only-child::after {width: 0;}#sk-container-id-2 div.sk-dashed-wrapped {border: 1px dashed gray;margin: 0 0.4em 0.5em 0.4em;box-sizing: border-box;padding-bottom: 0.4em;background-color: white;}#sk-container-id-2 div.sk-label label {font-family: monospace;font-weight: bold;display: inline-block;line-height: 1.2em;}#sk-container-id-2 div.sk-label-container {text-align: center;}#sk-container-id-2 div.sk-container {/* jupyter's `normalize.less` sets `[hidden] { display: none; }` but bootstrap.min.css set `[hidden] { display: none !important; }` so we also need the `!important` here to be able to override the default hidden behavior on the sphinx rendered scikit-learn.org. See: https://github.com/scikit-learn/scikit-learn/issues/21755 */display: inline-block !important;position: relative;}#sk-container-id-2 div.sk-text-repr-fallback {display: none;}</style><div id=\"sk-container-id-2\" class=\"sk-top-container\"><div class=\"sk-text-repr-fallback\"><pre>Pipeline(steps=[(&#x27;columntransformer&#x27;,\n",
       "                 ColumnTransformer(remainder=&#x27;passthrough&#x27;,\n",
       "                                   transformers=[(&#x27;num&#x27;, StandardScaler(),\n",
       "                                                  [&#x27;duration_minutes&#x27;,\n",
       "                                                   &#x27;nombre_acteurs_connus&#x27;,\n",
       "                                                   &#x27;budget&#x27;]),\n",
       "                                                 (&#x27;cat&#x27;, OneHotEncoder(),\n",
       "                                                  [&#x27;nationality&#x27;, &#x27;season&#x27;])])),\n",
       "                (&#x27;xgbregressor&#x27;,\n",
       "                 XGBRegressor(base_score=None, booster=None, callbacks=None,\n",
       "                              colsample_bylevel=None, colsample_bynode=None,\n",
       "                              colsampl...\n",
       "                              feature_types=None, gamma=None, grow_policy=None,\n",
       "                              importance_type=None,\n",
       "                              interaction_constraints=None, learning_rate=None,\n",
       "                              max_bin=None, max_cat_threshold=None,\n",
       "                              max_cat_to_onehot=None, max_delta_step=None,\n",
       "                              max_depth=None, max_leaves=None,\n",
       "                              min_child_weight=None, missing=nan,\n",
       "                              monotone_constraints=None, multi_strategy=None,\n",
       "                              n_estimators=None, n_jobs=None,\n",
       "                              num_parallel_tree=None, random_state=None, ...))])</pre><b>In a Jupyter environment, please rerun this cell to show the HTML representation or trust the notebook. <br />On GitHub, the HTML representation is unable to render, please try loading this page with nbviewer.org.</b></div><div class=\"sk-container\" hidden><div class=\"sk-item sk-dashed-wrapped\"><div class=\"sk-label-container\"><div class=\"sk-label sk-toggleable\"><input class=\"sk-toggleable__control sk-hidden--visually\" id=\"sk-estimator-id-10\" type=\"checkbox\" ><label for=\"sk-estimator-id-10\" class=\"sk-toggleable__label sk-toggleable__label-arrow\">Pipeline</label><div class=\"sk-toggleable__content\"><pre>Pipeline(steps=[(&#x27;columntransformer&#x27;,\n",
       "                 ColumnTransformer(remainder=&#x27;passthrough&#x27;,\n",
       "                                   transformers=[(&#x27;num&#x27;, StandardScaler(),\n",
       "                                                  [&#x27;duration_minutes&#x27;,\n",
       "                                                   &#x27;nombre_acteurs_connus&#x27;,\n",
       "                                                   &#x27;budget&#x27;]),\n",
       "                                                 (&#x27;cat&#x27;, OneHotEncoder(),\n",
       "                                                  [&#x27;nationality&#x27;, &#x27;season&#x27;])])),\n",
       "                (&#x27;xgbregressor&#x27;,\n",
       "                 XGBRegressor(base_score=None, booster=None, callbacks=None,\n",
       "                              colsample_bylevel=None, colsample_bynode=None,\n",
       "                              colsampl...\n",
       "                              feature_types=None, gamma=None, grow_policy=None,\n",
       "                              importance_type=None,\n",
       "                              interaction_constraints=None, learning_rate=None,\n",
       "                              max_bin=None, max_cat_threshold=None,\n",
       "                              max_cat_to_onehot=None, max_delta_step=None,\n",
       "                              max_depth=None, max_leaves=None,\n",
       "                              min_child_weight=None, missing=nan,\n",
       "                              monotone_constraints=None, multi_strategy=None,\n",
       "                              n_estimators=None, n_jobs=None,\n",
       "                              num_parallel_tree=None, random_state=None, ...))])</pre></div></div></div><div class=\"sk-serial\"><div class=\"sk-item sk-dashed-wrapped\"><div class=\"sk-label-container\"><div class=\"sk-label sk-toggleable\"><input class=\"sk-toggleable__control sk-hidden--visually\" id=\"sk-estimator-id-11\" type=\"checkbox\" ><label for=\"sk-estimator-id-11\" class=\"sk-toggleable__label sk-toggleable__label-arrow\">columntransformer: ColumnTransformer</label><div class=\"sk-toggleable__content\"><pre>ColumnTransformer(remainder=&#x27;passthrough&#x27;,\n",
       "                  transformers=[(&#x27;num&#x27;, StandardScaler(),\n",
       "                                 [&#x27;duration_minutes&#x27;, &#x27;nombre_acteurs_connus&#x27;,\n",
       "                                  &#x27;budget&#x27;]),\n",
       "                                (&#x27;cat&#x27;, OneHotEncoder(),\n",
       "                                 [&#x27;nationality&#x27;, &#x27;season&#x27;])])</pre></div></div></div><div class=\"sk-parallel\"><div class=\"sk-parallel-item\"><div class=\"sk-item\"><div class=\"sk-label-container\"><div class=\"sk-label sk-toggleable\"><input class=\"sk-toggleable__control sk-hidden--visually\" id=\"sk-estimator-id-12\" type=\"checkbox\" ><label for=\"sk-estimator-id-12\" class=\"sk-toggleable__label sk-toggleable__label-arrow\">num</label><div class=\"sk-toggleable__content\"><pre>[&#x27;duration_minutes&#x27;, &#x27;nombre_acteurs_connus&#x27;, &#x27;budget&#x27;]</pre></div></div></div><div class=\"sk-serial\"><div class=\"sk-item\"><div class=\"sk-estimator sk-toggleable\"><input class=\"sk-toggleable__control sk-hidden--visually\" id=\"sk-estimator-id-13\" type=\"checkbox\" ><label for=\"sk-estimator-id-13\" class=\"sk-toggleable__label sk-toggleable__label-arrow\">StandardScaler</label><div class=\"sk-toggleable__content\"><pre>StandardScaler()</pre></div></div></div></div></div></div><div class=\"sk-parallel-item\"><div class=\"sk-item\"><div class=\"sk-label-container\"><div class=\"sk-label sk-toggleable\"><input class=\"sk-toggleable__control sk-hidden--visually\" id=\"sk-estimator-id-14\" type=\"checkbox\" ><label for=\"sk-estimator-id-14\" class=\"sk-toggleable__label sk-toggleable__label-arrow\">cat</label><div class=\"sk-toggleable__content\"><pre>[&#x27;nationality&#x27;, &#x27;season&#x27;]</pre></div></div></div><div class=\"sk-serial\"><div class=\"sk-item\"><div class=\"sk-estimator sk-toggleable\"><input class=\"sk-toggleable__control sk-hidden--visually\" id=\"sk-estimator-id-15\" type=\"checkbox\" ><label for=\"sk-estimator-id-15\" class=\"sk-toggleable__label sk-toggleable__label-arrow\">OneHotEncoder</label><div class=\"sk-toggleable__content\"><pre>OneHotEncoder()</pre></div></div></div></div></div></div><div class=\"sk-parallel-item\"><div class=\"sk-item\"><div class=\"sk-label-container\"><div class=\"sk-label sk-toggleable\"><input class=\"sk-toggleable__control sk-hidden--visually\" id=\"sk-estimator-id-16\" type=\"checkbox\" ><label for=\"sk-estimator-id-16\" class=\"sk-toggleable__label sk-toggleable__label-arrow\">remainder</label><div class=\"sk-toggleable__content\"><pre>[&#x27;action&#x27;, &#x27;animation&#x27;, &#x27;arts martiaux&#x27;, &#x27;aventure&#x27;, &#x27;biopic&#x27;, &#x27;bollywood&#x27;, &#x27;comédie&#x27;, &#x27;comédie dramatique&#x27;, &#x27;comédie musicale&#x27;, &#x27;divers&#x27;, &#x27;drame&#x27;, &#x27;epouvante-horreur&#x27;, &#x27;erotique&#x27;, &#x27;espionnage&#x27;, &#x27;expérimental&#x27;, &#x27;famille&#x27;, &#x27;fantastique&#x27;, &#x27;guerre&#x27;, &#x27;historique&#x27;, &#x27;judiciaire&#x27;, &#x27;musical&#x27;, &#x27;policier&#x27;, &#x27;péplum&#x27;, &#x27;romance&#x27;, &#x27;science fiction&#x27;, &#x27;sport event&#x27;, &#x27;thriller&#x27;, &#x27;western&#x27;, &#x27;distributor_important&#x27;]</pre></div></div></div><div class=\"sk-serial\"><div class=\"sk-item\"><div class=\"sk-estimator sk-toggleable\"><input class=\"sk-toggleable__control sk-hidden--visually\" id=\"sk-estimator-id-17\" type=\"checkbox\" ><label for=\"sk-estimator-id-17\" class=\"sk-toggleable__label sk-toggleable__label-arrow\">passthrough</label><div class=\"sk-toggleable__content\"><pre>passthrough</pre></div></div></div></div></div></div></div></div><div class=\"sk-item\"><div class=\"sk-estimator sk-toggleable\"><input class=\"sk-toggleable__control sk-hidden--visually\" id=\"sk-estimator-id-18\" type=\"checkbox\" ><label for=\"sk-estimator-id-18\" class=\"sk-toggleable__label sk-toggleable__label-arrow\">XGBRegressor</label><div class=\"sk-toggleable__content\"><pre>XGBRegressor(base_score=None, booster=None, callbacks=None,\n",
       "             colsample_bylevel=None, colsample_bynode=None,\n",
       "             colsample_bytree=None, device=None, early_stopping_rounds=None,\n",
       "             enable_categorical=False, eval_metric=None, feature_types=None,\n",
       "             gamma=None, grow_policy=None, importance_type=None,\n",
       "             interaction_constraints=None, learning_rate=None, max_bin=None,\n",
       "             max_cat_threshold=None, max_cat_to_onehot=None,\n",
       "             max_delta_step=None, max_depth=None, max_leaves=None,\n",
       "             min_child_weight=None, missing=nan, monotone_constraints=None,\n",
       "             multi_strategy=None, n_estimators=None, n_jobs=None,\n",
       "             num_parallel_tree=None, random_state=None, ...)</pre></div></div></div></div></div></div></div>"
      ],
      "text/plain": [
       "Pipeline(steps=[('columntransformer',\n",
       "                 ColumnTransformer(remainder='passthrough',\n",
       "                                   transformers=[('num', StandardScaler(),\n",
       "                                                  ['duration_minutes',\n",
       "                                                   'nombre_acteurs_connus',\n",
       "                                                   'budget']),\n",
       "                                                 ('cat', OneHotEncoder(),\n",
       "                                                  ['nationality', 'season'])])),\n",
       "                ('xgbregressor',\n",
       "                 XGBRegressor(base_score=None, booster=None, callbacks=None,\n",
       "                              colsample_bylevel=None, colsample_bynode=None,\n",
       "                              colsampl...\n",
       "                              feature_types=None, gamma=None, grow_policy=None,\n",
       "                              importance_type=None,\n",
       "                              interaction_constraints=None, learning_rate=None,\n",
       "                              max_bin=None, max_cat_threshold=None,\n",
       "                              max_cat_to_onehot=None, max_delta_step=None,\n",
       "                              max_depth=None, max_leaves=None,\n",
       "                              min_child_weight=None, missing=nan,\n",
       "                              monotone_constraints=None, multi_strategy=None,\n",
       "                              n_estimators=None, n_jobs=None,\n",
       "                              num_parallel_tree=None, random_state=None, ...))])"
      ]
     },
     "execution_count": 30,
     "metadata": {},
     "output_type": "execute_result"
    }
   ],
   "source": [
    "xgbr = make_pipeline(preprocessing, XGBRegressor())\n",
    "\n",
    "xgbr.fit(X_train, y_train)"
   ]
  },
  {
   "cell_type": "code",
   "execution_count": 31,
   "metadata": {},
   "outputs": [
    {
     "data": {
      "text/plain": [
       "<bound method Pipeline.get_params of Pipeline(steps=[('columntransformer',\n",
       "                 ColumnTransformer(remainder='passthrough',\n",
       "                                   transformers=[('num', StandardScaler(),\n",
       "                                                  ['duration_minutes',\n",
       "                                                   'nombre_acteurs_connus',\n",
       "                                                   'budget']),\n",
       "                                                 ('cat', OneHotEncoder(),\n",
       "                                                  ['nationality', 'season'])])),\n",
       "                ('xgbregressor',\n",
       "                 XGBRegressor(base_score=None, booster=None, callbacks=None,\n",
       "                              colsample_bylevel=None, colsample_bynode=None,\n",
       "                              colsampl...\n",
       "                              feature_types=None, gamma=None, grow_policy=None,\n",
       "                              importance_type=None,\n",
       "                              interaction_constraints=None, learning_rate=None,\n",
       "                              max_bin=None, max_cat_threshold=None,\n",
       "                              max_cat_to_onehot=None, max_delta_step=None,\n",
       "                              max_depth=None, max_leaves=None,\n",
       "                              min_child_weight=None, missing=nan,\n",
       "                              monotone_constraints=None, multi_strategy=None,\n",
       "                              n_estimators=None, n_jobs=None,\n",
       "                              num_parallel_tree=None, random_state=None, ...))])>"
      ]
     },
     "execution_count": 31,
     "metadata": {},
     "output_type": "execute_result"
    }
   ],
   "source": [
    "xgbr.get_params"
   ]
  },
  {
   "cell_type": "code",
   "execution_count": 32,
   "metadata": {},
   "outputs": [
    {
     "data": {
      "text/plain": [
       "85.50755597188261"
      ]
     },
     "execution_count": 32,
     "metadata": {},
     "output_type": "execute_result"
    }
   ],
   "source": [
    "xgbr.score(X_train, y_train)*100"
   ]
  },
  {
   "cell_type": "code",
   "execution_count": 33,
   "metadata": {},
   "outputs": [
    {
     "data": {
      "text/plain": [
       "61.95830765705577"
      ]
     },
     "execution_count": 33,
     "metadata": {},
     "output_type": "execute_result"
    }
   ],
   "source": [
    "xgbr.score(X_test, y_test)*100"
   ]
  },
  {
   "cell_type": "code",
   "execution_count": 34,
   "metadata": {},
   "outputs": [],
   "source": [
    "y_pred_2 = xgbr.predict(X_train)"
   ]
  },
  {
   "cell_type": "code",
   "execution_count": 35,
   "metadata": {},
   "outputs": [],
   "source": [
    "y_pred_3 = xgbr.predict(X_test)"
   ]
  },
  {
   "cell_type": "code",
   "execution_count": 36,
   "metadata": {},
   "outputs": [
    {
     "name": "stdout",
     "output_type": "stream",
     "text": [
      "R² : 0.86\n"
     ]
    }
   ],
   "source": [
    "# Calcul du R²\n",
    "r2 = r2_score(y_train, y_pred_2)\n",
    "print(\"R² : %.2f\" % r2)"
   ]
  },
  {
   "cell_type": "code",
   "execution_count": 37,
   "metadata": {},
   "outputs": [
    {
     "name": "stdout",
     "output_type": "stream",
     "text": [
      "R² : 0.62\n"
     ]
    }
   ],
   "source": [
    "# Calcul du R²\n",
    "r2 = r2_score(y_test, y_pred_3)\n",
    "print(\"R² : %.2f\" % r2)"
   ]
  },
  {
   "cell_type": "code",
   "execution_count": 38,
   "metadata": {},
   "outputs": [
    {
     "name": "stdout",
     "output_type": "stream",
     "text": [
      "MAE : 76311.21\n"
     ]
    }
   ],
   "source": [
    "# Calcul du MAE\n",
    "mae = mean_absolute_error(y_train, y_pred_2)\n",
    "print(\"MAE : %.2f\" % mae)"
   ]
  },
  {
   "cell_type": "code",
   "execution_count": 39,
   "metadata": {},
   "outputs": [
    {
     "name": "stdout",
     "output_type": "stream",
     "text": [
      "R² (Entraînement): 0.86\n",
      "MAE (Entraînement): 76311.21\n",
      "R² (Test): 0.62\n",
      "MAE (Test): 117888.06\n"
     ]
    }
   ],
   "source": [
    "\n",
    "# Prédictions sur les ensembles d'entraînement et de test\n",
    "y_train_pred = xgbr.predict(X_train)\n",
    "y_test_pred = xgbr.predict(X_test)\n",
    "\n",
    "# Calculer R² et MAE pour l'ensemble d'entraînement\n",
    "r2_train = r2_score(y_train, y_train_pred)\n",
    "mae_train = mean_absolute_error(y_train, y_train_pred)\n",
    "\n",
    "# Calculer R² et MAE pour l'ensemble de test\n",
    "r2_test = r2_score(y_test, y_test_pred)\n",
    "mae_test = mean_absolute_error(y_test, y_test_pred)\n",
    "\n",
    "# Afficher les résultats\n",
    "print(f'R² (Entraînement): {r2_train:.2f}')\n",
    "print(f'MAE (Entraînement): {mae_train:.2f}')\n",
    "print(f'R² (Test): {r2_test:.2f}')\n",
    "print(f'MAE (Test): {mae_test:.2f}')"
   ]
  },
  {
   "cell_type": "markdown",
   "metadata": {},
   "source": [
    "### GridSearch"
   ]
  },
  {
   "cell_type": "code",
   "execution_count": 40,
   "metadata": {},
   "outputs": [
    {
     "name": "stdout",
     "output_type": "stream",
     "text": [
      "Meilleurs paramètres pour XGBoost: {'xgb__learning_rate': 0.2, 'xgb__max_depth': 7, 'xgb__n_estimators': 200}\n",
      "R² (Entraînement): 0.91\n",
      "MAE (Entraînement): 57085.14\n",
      "R² (Test): 0.67\n",
      "MAE (Test): 109531.57\n"
     ]
    }
   ],
   "source": [
    "\n",
    "# Définir les caractéristiques numériques et catégorielles\n",
    "numerical_features = ['duration_minutes', 'nombre_acteurs_connus', 'budget']\n",
    "categorical_features = ['nationality', 'season']\n",
    "\n",
    "# Définir les transformateurs\n",
    "numerical_transformer = StandardScaler()\n",
    "categorical_transformer = OneHotEncoder(handle_unknown='ignore')\n",
    "\n",
    "# Créer le préprocesseur avec ColumnTransformer\n",
    "preprocessing = ColumnTransformer(\n",
    "    transformers=[\n",
    "        ('num', numerical_transformer, numerical_features),\n",
    "        ('cat', categorical_transformer, categorical_features)\n",
    "    ],\n",
    "    remainder=\"passthrough\"\n",
    ")\n",
    "\n",
    "# Créer le pipeline avec XGBoost\n",
    "xgb_model = Pipeline([\n",
    "    ('preprocessing', preprocessing),\n",
    "    ('xgb', XGBRegressor())\n",
    "])\n",
    "\n",
    "# Définir la grille de recherche des hyperparamètres\n",
    "param_grid = {\n",
    "    'xgb__n_estimators': [50, 100, 200],\n",
    "    'xgb__learning_rate': [0.01, 0.1, 0.2],\n",
    "    'xgb__max_depth': [3, 5, 7]\n",
    "}\n",
    "\n",
    "# Effectuer la recherche des meilleurs paramètres avec GridSearchCV\n",
    "grid_search = GridSearchCV(estimator=xgb_model, param_grid=param_grid, cv=5, n_jobs=-1)\n",
    "\n",
    "# Adapter le modèle\n",
    "grid_search.fit(X_train, y_train)\n",
    "\n",
    "# Afficher les meilleurs paramètres\n",
    "print(\"Meilleurs paramètres pour XGBoost:\", grid_search.best_params_)\n",
    "\n",
    "# Obtenir les meilleures estimations\n",
    "best_model = grid_search.best_estimator_\n",
    "\n",
    "# Prédictions sur les ensembles d'entraînement et de test\n",
    "y_train_pred = best_model.predict(X_train)\n",
    "y_test_pred = best_model.predict(X_test)\n",
    "\n",
    "# Calculer R² et MAE pour l'ensemble d'entraînement\n",
    "r2_train = r2_score(y_train, y_train_pred)\n",
    "mae_train = mean_absolute_error(y_train, y_train_pred)\n",
    "\n",
    "# Calculer R² et MAE pour l'ensemble de test\n",
    "r2_test = r2_score(y_test, y_test_pred)\n",
    "mae_test = mean_absolute_error(y_test, y_test_pred)\n",
    "\n",
    "# Afficher les résultats\n",
    "print(f'R² (Entraînement): {r2_train:.2f}')\n",
    "print(f'MAE (Entraînement): {mae_train:.2f}')\n",
    "print(f'R² (Test): {r2_test:.2f}')\n",
    "print(f'MAE (Test): {mae_test:.2f}')"
   ]
  },
  {
   "cell_type": "code",
   "execution_count": 41,
   "metadata": {},
   "outputs": [
    {
     "data": {
      "text/plain": [
       "91.48792317922545"
      ]
     },
     "execution_count": 41,
     "metadata": {},
     "output_type": "execute_result"
    }
   ],
   "source": [
    "grid_search.score(X_train, y_train)*100"
   ]
  },
  {
   "cell_type": "code",
   "execution_count": 42,
   "metadata": {},
   "outputs": [
    {
     "data": {
      "text/plain": [
       "67.12719376949086"
      ]
     },
     "execution_count": 42,
     "metadata": {},
     "output_type": "execute_result"
    }
   ],
   "source": [
    "grid_search.score(X_test, y_test)*100"
   ]
  },
  {
   "cell_type": "markdown",
   "metadata": {},
   "source": [
    "### Courbe de Validation"
   ]
  },
  {
   "cell_type": "code",
   "execution_count": 43,
   "metadata": {},
   "outputs": [
    {
     "data": {
      "image/png": "[encoded data removed]",
      "text/plain": [
       "<Figure size 1000x600 with 1 Axes>"
      ]
     },
     "metadata": {},
     "output_type": "display_data"
    },
    {
     "name": "stdout",
     "output_type": "stream",
     "text": [
      "(10600, 34)\n",
      "(2650, 34)\n"
     ]
    }
   ],
   "source": [
    "# Courbe de validation pour XGBoost\n",
    "param_range = np.arange(50, 250, 25)\n",
    "train_scores, test_scores = validation_curve(\n",
    "    grid_search.best_estimator_, X_train, y_train, param_name=\"xgb__n_estimators\", param_range=param_range,\n",
    "    scoring=\"r2\", cv=5\n",
    ")\n",
    "\n",
    "plt.figure(figsize=(10, 6))\n",
    "plt.plot(param_range, np.mean(train_scores, axis=1), label=\"Entraînement\")\n",
    "plt.plot(param_range, np.mean(test_scores, axis=1), label=\"Validation\")\n",
    "plt.title(\"Courbe de validation pour XGBoost\")\n",
    "plt.xlabel(\"Nombre d'estimateurs\")\n",
    "plt.ylabel(\"Score R2\")\n",
    "plt.legend()\n",
    "plt.show()\n",
    "print(X_train.shape)\n",
    "print(X_test.shape)\n"
   ]
  },
  {
   "cell_type": "markdown",
   "metadata": {},
   "source": [
    "### Courbe d'apprentissage"
   ]
  },
  {
   "cell_type": "code",
   "execution_count": 44,
   "metadata": {},
   "outputs": [
    {
     "data": {
      "image/png": "[encoded data removed]",
      "text/plain": [
       "<Figure size 1000x600 with 1 Axes>"
      ]
     },
     "metadata": {},
     "output_type": "display_data"
    },
    {
     "name": "stdout",
     "output_type": "stream",
     "text": [
      "(10600, 34)\n",
      "(2650, 34)\n"
     ]
    }
   ],
   "source": [
    "# Courbe d'apprentissage pour XGBoost\n",
    "\n",
    "# Obtenir le meilleur estimateur de la recherche de grille\n",
    "best_estimator = grid_search.best_estimator_\n",
    "\n",
    "# Tracer la courbe d'apprentissage\n",
    "train_sizes, train_scores, test_scores = learning_curve(\n",
    "    best_estimator, X_train, y_train, scoring=\"r2\", cv=5\n",
    ")\n",
    "\n",
    "plt.figure(figsize=(10, 6))\n",
    "plt.plot(train_sizes, np.mean(train_scores, axis=1), label=\"Entraînement\")\n",
    "plt.plot(train_sizes, np.mean(test_scores, axis=1), label=\"Validation\")\n",
    "plt.title(\"Courbe d'apprentissage pour XGBoost\")\n",
    "plt.xlabel(\"Taille de l'ensemble d'entraînement\")\n",
    "plt.ylabel(\"Score R2\")\n",
    "plt.legend()\n",
    "plt.show()\n",
    "print(X_train.shape)\n",
    "print(X_test.shape)\n",
    "\n"
   ]
  },
  {
   "cell_type": "markdown",
   "metadata": {},
   "source": [
    "### Score Final"
   ]
  },
  {
   "cell_type": "code",
   "execution_count": 45,
   "metadata": {},
   "outputs": [
    {
     "name": "stdout",
     "output_type": "stream",
     "text": [
      "R2 Score sur l'ensemble de test: 67.12719376949086\n",
      "Erreur absolue moyenne (MAE) sur l'ensemble de test:  109531.57\n"
     ]
    }
   ],
   "source": [
    "# Prédiction sur l'ensemble de test\n",
    "y_pred = grid_search.predict(X_test)\n",
    "\n",
    "# Évaluation des performances du modèle\n",
    "from sklearn.metrics import r2_score\n",
    "\n",
    "r2 = r2_score(y_test, y_pred)*100\n",
    "mae = mean_absolute_error(y_test, y_pred)\n",
    "\n",
    "print(\"R2 Score sur l'ensemble de test:\", r2)\n",
    "print(\"Erreur absolue moyenne (MAE) sur l'ensemble de test:  %.2f\" % mae)\n"
   ]
  },
  {
   "cell_type": "markdown",
   "metadata": {},
   "source": [
    "### Feature Importance"
   ]
  },
  {
   "cell_type": "code",
   "execution_count": 46,
   "metadata": {},
   "outputs": [
    {
     "data": {
      "image/png": "[encoded data removed]",
      "text/plain": [
       "<Figure size 1000x600 with 1 Axes>"
      ]
     },
     "metadata": {},
     "output_type": "display_data"
    }
   ],
   "source": [
    "# Réappliquer le prétraitement aux données d'entraînement\n",
    "X_train_preprocessed = grid_search.best_estimator_.named_steps['preprocessing'].transform(X_train)\n",
    "\n",
    "# Obtenir les caractéristiques utilisées lors de l'apprentissage du modèle\n",
    "features = grid_search.best_estimator_.named_steps['preprocessing'].get_feature_names_out()\n",
    "\n",
    "# Obtenir les importances des caractéristiques à partir du meilleur estimateur\n",
    "feature_importances = grid_search.best_estimator_.named_steps['xgb'].feature_importances_\n",
    "\n",
    "# Créer un DataFrame pour afficher les importances des caractéristiques\n",
    "importance_df = pd.DataFrame({'Feature': features, 'Importance': feature_importances})\n",
    "importance_df = importance_df.sort_values(by='Importance', ascending=False)\n",
    "\n",
    "# Sélectionner les 15 caractéristiques les plus importantes\n",
    "top_15_features = importance_df.nlargest(15, 'Importance')\n",
    "\n",
    "# Tracer les importances des caractéristiques\n",
    "plt.figure(figsize=(10, 6))\n",
    "sns.barplot(x='Importance', y='Feature', data=top_15_features)\n",
    "plt.title(\"Importance des 15 caractéristiques les plus importantes dans le modèle XGBoost\")\n",
    "plt.xlabel(\"Importance\")\n",
    "plt.ylabel(\"Caractéristiques\")\n",
    "plt.show()"
   ]
  },
  {
   "cell_type": "code",
   "execution_count": 47,
   "metadata": {},
   "outputs": [
    {
     "data": {
      "text/html": [
       "<style>#sk-container-id-3 {color: black;}#sk-container-id-3 pre{padding: 0;}#sk-container-id-3 div.sk-toggleable {background-color: white;}#sk-container-id-3 label.sk-toggleable__label {cursor: pointer;display: block;width: 100%;margin-bottom: 0;padding: 0.3em;box-sizing: border-box;text-align: center;}#sk-container-id-3 label.sk-toggleable__label-arrow:before {content: \"▸\";float: left;margin-right: 0.25em;color: #696969;}#sk-container-id-3 label.sk-toggleable__label-arrow:hover:before {color: black;}#sk-container-id-3 div.sk-estimator:hover label.sk-toggleable__label-arrow:before {color: black;}#sk-container-id-3 div.sk-toggleable__content {max-height: 0;max-width: 0;overflow: hidden;text-align: left;background-color: #f0f8ff;}#sk-container-id-3 div.sk-toggleable__content pre {margin: 0.2em;color: black;border-radius: 0.25em;background-color: #f0f8ff;}#sk-container-id-3 input.sk-toggleable__control:checked~div.sk-toggleable__content {max-height: 200px;max-width: 100%;overflow: auto;}#sk-container-id-3 input.sk-toggleable__control:checked~label.sk-toggleable__label-arrow:before {content: \"▾\";}#sk-container-id-3 div.sk-estimator input.sk-toggleable__control:checked~label.sk-toggleable__label {background-color: #d4ebff;}#sk-container-id-3 div.sk-label input.sk-toggleable__control:checked~label.sk-toggleable__label {background-color: #d4ebff;}#sk-container-id-3 input.sk-hidden--visually {border: 0;clip: rect(1px 1px 1px 1px);clip: rect(1px, 1px, 1px, 1px);height: 1px;margin: -1px;overflow: hidden;padding: 0;position: absolute;width: 1px;}#sk-container-id-3 div.sk-estimator {font-family: monospace;background-color: #f0f8ff;border: 1px dotted black;border-radius: 0.25em;box-sizing: border-box;margin-bottom: 0.5em;}#sk-container-id-3 div.sk-estimator:hover {background-color: #d4ebff;}#sk-container-id-3 div.sk-parallel-item::after {content: \"\";width: 100%;border-bottom: 1px solid gray;flex-grow: 1;}#sk-container-id-3 div.sk-label:hover label.sk-toggleable__label {background-color: #d4ebff;}#sk-container-id-3 div.sk-serial::before {content: \"\";position: absolute;border-left: 1px solid gray;box-sizing: border-box;top: 0;bottom: 0;left: 50%;z-index: 0;}#sk-container-id-3 div.sk-serial {display: flex;flex-direction: column;align-items: center;background-color: white;padding-right: 0.2em;padding-left: 0.2em;position: relative;}#sk-container-id-3 div.sk-item {position: relative;z-index: 1;}#sk-container-id-3 div.sk-parallel {display: flex;align-items: stretch;justify-content: center;background-color: white;position: relative;}#sk-container-id-3 div.sk-item::before, #sk-container-id-3 div.sk-parallel-item::before {content: \"\";position: absolute;border-left: 1px solid gray;box-sizing: border-box;top: 0;bottom: 0;left: 50%;z-index: -1;}#sk-container-id-3 div.sk-parallel-item {display: flex;flex-direction: column;z-index: 1;position: relative;background-color: white;}#sk-container-id-3 div.sk-parallel-item:first-child::after {align-self: flex-end;width: 50%;}#sk-container-id-3 div.sk-parallel-item:last-child::after {align-self: flex-start;width: 50%;}#sk-container-id-3 div.sk-parallel-item:only-child::after {width: 0;}#sk-container-id-3 div.sk-dashed-wrapped {border: 1px dashed gray;margin: 0 0.4em 0.5em 0.4em;box-sizing: border-box;padding-bottom: 0.4em;background-color: white;}#sk-container-id-3 div.sk-label label {font-family: monospace;font-weight: bold;display: inline-block;line-height: 1.2em;}#sk-container-id-3 div.sk-label-container {text-align: center;}#sk-container-id-3 div.sk-container {/* jupyter's `normalize.less` sets `[hidden] { display: none; }` but bootstrap.min.css set `[hidden] { display: none !important; }` so we also need the `!important` here to be able to override the default hidden behavior on the sphinx rendered scikit-learn.org. See: https://github.com/scikit-learn/scikit-learn/issues/21755 */display: inline-block !important;position: relative;}#sk-container-id-3 div.sk-text-repr-fallback {display: none;}</style><div id=\"sk-container-id-3\" class=\"sk-top-container\"><div class=\"sk-text-repr-fallback\"><pre>GridSearchCV(cv=5,\n",
       "             estimator=Pipeline(steps=[(&#x27;preprocessing&#x27;,\n",
       "                                        ColumnTransformer(remainder=&#x27;passthrough&#x27;,\n",
       "                                                          transformers=[(&#x27;num&#x27;,\n",
       "                                                                         StandardScaler(),\n",
       "                                                                         [&#x27;duration_minutes&#x27;,\n",
       "                                                                          &#x27;nombre_acteurs_connus&#x27;,\n",
       "                                                                          &#x27;budget&#x27;]),\n",
       "                                                                        (&#x27;cat&#x27;,\n",
       "                                                                         OneHotEncoder(handle_unknown=&#x27;ignore&#x27;),\n",
       "                                                                         [&#x27;nationality&#x27;,\n",
       "                                                                          &#x27;season&#x27;])])),\n",
       "                                       (&#x27;xgb&#x27;,\n",
       "                                        XGBRegressor(base_score=None,\n",
       "                                                     booster=None,\n",
       "                                                     callbacks=None,\n",
       "                                                     colsample_bylev...\n",
       "                                                     max_cat_to_onehot=None,\n",
       "                                                     max_delta_step=None,\n",
       "                                                     max_depth=None,\n",
       "                                                     max_leaves=None,\n",
       "                                                     min_child_weight=None,\n",
       "                                                     missing=nan,\n",
       "                                                     monotone_constraints=None,\n",
       "                                                     multi_strategy=None,\n",
       "                                                     n_estimators=None,\n",
       "                                                     n_jobs=None,\n",
       "                                                     num_parallel_tree=None,\n",
       "                                                     random_state=None, ...))]),\n",
       "             n_jobs=-1,\n",
       "             param_grid={&#x27;xgb__learning_rate&#x27;: [0.01, 0.1, 0.2],\n",
       "                         &#x27;xgb__max_depth&#x27;: [3, 5, 7],\n",
       "                         &#x27;xgb__n_estimators&#x27;: [50, 100, 200]})</pre><b>In a Jupyter environment, please rerun this cell to show the HTML representation or trust the notebook. <br />On GitHub, the HTML representation is unable to render, please try loading this page with nbviewer.org.</b></div><div class=\"sk-container\" hidden><div class=\"sk-item sk-dashed-wrapped\"><div class=\"sk-label-container\"><div class=\"sk-label sk-toggleable\"><input class=\"sk-toggleable__control sk-hidden--visually\" id=\"sk-estimator-id-19\" type=\"checkbox\" ><label for=\"sk-estimator-id-19\" class=\"sk-toggleable__label sk-toggleable__label-arrow\">GridSearchCV</label><div class=\"sk-toggleable__content\"><pre>GridSearchCV(cv=5,\n",
       "             estimator=Pipeline(steps=[(&#x27;preprocessing&#x27;,\n",
       "                                        ColumnTransformer(remainder=&#x27;passthrough&#x27;,\n",
       "                                                          transformers=[(&#x27;num&#x27;,\n",
       "                                                                         StandardScaler(),\n",
       "                                                                         [&#x27;duration_minutes&#x27;,\n",
       "                                                                          &#x27;nombre_acteurs_connus&#x27;,\n",
       "                                                                          &#x27;budget&#x27;]),\n",
       "                                                                        (&#x27;cat&#x27;,\n",
       "                                                                         OneHotEncoder(handle_unknown=&#x27;ignore&#x27;),\n",
       "                                                                         [&#x27;nationality&#x27;,\n",
       "                                                                          &#x27;season&#x27;])])),\n",
       "                                       (&#x27;xgb&#x27;,\n",
       "                                        XGBRegressor(base_score=None,\n",
       "                                                     booster=None,\n",
       "                                                     callbacks=None,\n",
       "                                                     colsample_bylev...\n",
       "                                                     max_cat_to_onehot=None,\n",
       "                                                     max_delta_step=None,\n",
       "                                                     max_depth=None,\n",
       "                                                     max_leaves=None,\n",
       "                                                     min_child_weight=None,\n",
       "                                                     missing=nan,\n",
       "                                                     monotone_constraints=None,\n",
       "                                                     multi_strategy=None,\n",
       "                                                     n_estimators=None,\n",
       "                                                     n_jobs=None,\n",
       "                                                     num_parallel_tree=None,\n",
       "                                                     random_state=None, ...))]),\n",
       "             n_jobs=-1,\n",
       "             param_grid={&#x27;xgb__learning_rate&#x27;: [0.01, 0.1, 0.2],\n",
       "                         &#x27;xgb__max_depth&#x27;: [3, 5, 7],\n",
       "                         &#x27;xgb__n_estimators&#x27;: [50, 100, 200]})</pre></div></div></div><div class=\"sk-parallel\"><div class=\"sk-parallel-item\"><div class=\"sk-item\"><div class=\"sk-label-container\"><div class=\"sk-label sk-toggleable\"><input class=\"sk-toggleable__control sk-hidden--visually\" id=\"sk-estimator-id-20\" type=\"checkbox\" ><label for=\"sk-estimator-id-20\" class=\"sk-toggleable__label sk-toggleable__label-arrow\">estimator: Pipeline</label><div class=\"sk-toggleable__content\"><pre>Pipeline(steps=[(&#x27;preprocessing&#x27;,\n",
       "                 ColumnTransformer(remainder=&#x27;passthrough&#x27;,\n",
       "                                   transformers=[(&#x27;num&#x27;, StandardScaler(),\n",
       "                                                  [&#x27;duration_minutes&#x27;,\n",
       "                                                   &#x27;nombre_acteurs_connus&#x27;,\n",
       "                                                   &#x27;budget&#x27;]),\n",
       "                                                 (&#x27;cat&#x27;,\n",
       "                                                  OneHotEncoder(handle_unknown=&#x27;ignore&#x27;),\n",
       "                                                  [&#x27;nationality&#x27;, &#x27;season&#x27;])])),\n",
       "                (&#x27;xgb&#x27;,\n",
       "                 XGBRegressor(base_score=None, booster=None, callbacks=None,\n",
       "                              colsample_bylevel=None, colsample_bynode=Non...\n",
       "                              feature_types=None, gamma=None, grow_policy=None,\n",
       "                              importance_type=None,\n",
       "                              interaction_constraints=None, learning_rate=None,\n",
       "                              max_bin=None, max_cat_threshold=None,\n",
       "                              max_cat_to_onehot=None, max_delta_step=None,\n",
       "                              max_depth=None, max_leaves=None,\n",
       "                              min_child_weight=None, missing=nan,\n",
       "                              monotone_constraints=None, multi_strategy=None,\n",
       "                              n_estimators=None, n_jobs=None,\n",
       "                              num_parallel_tree=None, random_state=None, ...))])</pre></div></div></div><div class=\"sk-serial\"><div class=\"sk-item\"><div class=\"sk-serial\"><div class=\"sk-item sk-dashed-wrapped\"><div class=\"sk-label-container\"><div class=\"sk-label sk-toggleable\"><input class=\"sk-toggleable__control sk-hidden--visually\" id=\"sk-estimator-id-21\" type=\"checkbox\" ><label for=\"sk-estimator-id-21\" class=\"sk-toggleable__label sk-toggleable__label-arrow\">preprocessing: ColumnTransformer</label><div class=\"sk-toggleable__content\"><pre>ColumnTransformer(remainder=&#x27;passthrough&#x27;,\n",
       "                  transformers=[(&#x27;num&#x27;, StandardScaler(),\n",
       "                                 [&#x27;duration_minutes&#x27;, &#x27;nombre_acteurs_connus&#x27;,\n",
       "                                  &#x27;budget&#x27;]),\n",
       "                                (&#x27;cat&#x27;, OneHotEncoder(handle_unknown=&#x27;ignore&#x27;),\n",
       "                                 [&#x27;nationality&#x27;, &#x27;season&#x27;])])</pre></div></div></div><div class=\"sk-parallel\"><div class=\"sk-parallel-item\"><div class=\"sk-item\"><div class=\"sk-label-container\"><div class=\"sk-label sk-toggleable\"><input class=\"sk-toggleable__control sk-hidden--visually\" id=\"sk-estimator-id-22\" type=\"checkbox\" ><label for=\"sk-estimator-id-22\" class=\"sk-toggleable__label sk-toggleable__label-arrow\">num</label><div class=\"sk-toggleable__content\"><pre>[&#x27;duration_minutes&#x27;, &#x27;nombre_acteurs_connus&#x27;, &#x27;budget&#x27;]</pre></div></div></div><div class=\"sk-serial\"><div class=\"sk-item\"><div class=\"sk-estimator sk-toggleable\"><input class=\"sk-toggleable__control sk-hidden--visually\" id=\"sk-estimator-id-23\" type=\"checkbox\" ><label for=\"sk-estimator-id-23\" class=\"sk-toggleable__label sk-toggleable__label-arrow\">StandardScaler</label><div class=\"sk-toggleable__content\"><pre>StandardScaler()</pre></div></div></div></div></div></div><div class=\"sk-parallel-item\"><div class=\"sk-item\"><div class=\"sk-label-container\"><div class=\"sk-label sk-toggleable\"><input class=\"sk-toggleable__control sk-hidden--visually\" id=\"sk-estimator-id-24\" type=\"checkbox\" ><label for=\"sk-estimator-id-24\" class=\"sk-toggleable__label sk-toggleable__label-arrow\">cat</label><div class=\"sk-toggleable__content\"><pre>[&#x27;nationality&#x27;, &#x27;season&#x27;]</pre></div></div></div><div class=\"sk-serial\"><div class=\"sk-item\"><div class=\"sk-estimator sk-toggleable\"><input class=\"sk-toggleable__control sk-hidden--visually\" id=\"sk-estimator-id-25\" type=\"checkbox\" ><label for=\"sk-estimator-id-25\" class=\"sk-toggleable__label sk-toggleable__label-arrow\">OneHotEncoder</label><div class=\"sk-toggleable__content\"><pre>OneHotEncoder(handle_unknown=&#x27;ignore&#x27;)</pre></div></div></div></div></div></div><div class=\"sk-parallel-item\"><div class=\"sk-item\"><div class=\"sk-label-container\"><div class=\"sk-label sk-toggleable\"><input class=\"sk-toggleable__control sk-hidden--visually\" id=\"sk-estimator-id-26\" type=\"checkbox\" ><label for=\"sk-estimator-id-26\" class=\"sk-toggleable__label sk-toggleable__label-arrow\">remainder</label><div class=\"sk-toggleable__content\"><pre></pre></div></div></div><div class=\"sk-serial\"><div class=\"sk-item\"><div class=\"sk-estimator sk-toggleable\"><input class=\"sk-toggleable__control sk-hidden--visually\" id=\"sk-estimator-id-27\" type=\"checkbox\" ><label for=\"sk-estimator-id-27\" class=\"sk-toggleable__label sk-toggleable__label-arrow\">passthrough</label><div class=\"sk-toggleable__content\"><pre>passthrough</pre></div></div></div></div></div></div></div></div><div class=\"sk-item\"><div class=\"sk-estimator sk-toggleable\"><input class=\"sk-toggleable__control sk-hidden--visually\" id=\"sk-estimator-id-28\" type=\"checkbox\" ><label for=\"sk-estimator-id-28\" class=\"sk-toggleable__label sk-toggleable__label-arrow\">XGBRegressor</label><div class=\"sk-toggleable__content\"><pre>XGBRegressor(base_score=None, booster=None, callbacks=None,\n",
       "             colsample_bylevel=None, colsample_bynode=None,\n",
       "             colsample_bytree=None, device=None, early_stopping_rounds=None,\n",
       "             enable_categorical=False, eval_metric=None, feature_types=None,\n",
       "             gamma=None, grow_policy=None, importance_type=None,\n",
       "             interaction_constraints=None, learning_rate=None, max_bin=None,\n",
       "             max_cat_threshold=None, max_cat_to_onehot=None,\n",
       "             max_delta_step=None, max_depth=None, max_leaves=None,\n",
       "             min_child_weight=None, missing=nan, monotone_constraints=None,\n",
       "             multi_strategy=None, n_estimators=None, n_jobs=None,\n",
       "             num_parallel_tree=None, random_state=None, ...)</pre></div></div></div></div></div></div></div></div></div></div></div></div>"
      ],
      "text/plain": [
       "GridSearchCV(cv=5,\n",
       "             estimator=Pipeline(steps=[('preprocessing',\n",
       "                                        ColumnTransformer(remainder='passthrough',\n",
       "                                                          transformers=[('num',\n",
       "                                                                         StandardScaler(),\n",
       "                                                                         ['duration_minutes',\n",
       "                                                                          'nombre_acteurs_connus',\n",
       "                                                                          'budget']),\n",
       "                                                                        ('cat',\n",
       "                                                                         OneHotEncoder(handle_unknown='ignore'),\n",
       "                                                                         ['nationality',\n",
       "                                                                          'season'])])),\n",
       "                                       ('xgb',\n",
       "                                        XGBRegressor(base_score=None,\n",
       "                                                     booster=None,\n",
       "                                                     callbacks=None,\n",
       "                                                     colsample_bylev...\n",
       "                                                     max_cat_to_onehot=None,\n",
       "                                                     max_delta_step=None,\n",
       "                                                     max_depth=None,\n",
       "                                                     max_leaves=None,\n",
       "                                                     min_child_weight=None,\n",
       "                                                     missing=nan,\n",
       "                                                     monotone_constraints=None,\n",
       "                                                     multi_strategy=None,\n",
       "                                                     n_estimators=None,\n",
       "                                                     n_jobs=None,\n",
       "                                                     num_parallel_tree=None,\n",
       "                                                     random_state=None, ...))]),\n",
       "             n_jobs=-1,\n",
       "             param_grid={'xgb__learning_rate': [0.01, 0.1, 0.2],\n",
       "                         'xgb__max_depth': [3, 5, 7],\n",
       "                         'xgb__n_estimators': [50, 100, 200]})"
      ]
     },
     "execution_count": 47,
     "metadata": {},
     "output_type": "execute_result"
    }
   ],
   "source": [
    "grid_search"
   ]
  },
  {
   "cell_type": "code",
   "execution_count": 53,
   "metadata": {},
   "outputs": [
    {
     "data": {
      "text/plain": [
       "['model.pkl']"
      ]
     },
     "execution_count": 53,
     "metadata": {},
     "output_type": "execute_result"
    }
   ],
   "source": [
    "import joblib\n",
    "\n",
    "# Enregistrement du modèle sous format pickle\n",
    "joblib.dump(grid_search, 'model.pkl')"
   ]
  },
  {
   "cell_type": "code",
   "execution_count": 54,
   "metadata": {},
   "outputs": [
    {
     "data": {
      "text/plain": [
       "nationality                   U.S.A.\n",
       "budget                   250000000.0\n",
       "duration_minutes                 150\n",
       "season                     printemps\n",
       "action                             1\n",
       "animation                          0\n",
       "arts martiaux                      0\n",
       "aventure                           0\n",
       "biopic                             0\n",
       "bollywood                          0\n",
       "comédie                            0\n",
       "comédie dramatique                 0\n",
       "comédie musicale                   0\n",
       "divers                             0\n",
       "drame                              0\n",
       "epouvante-horreur                  0\n",
       "erotique                           0\n",
       "espionnage                         0\n",
       "expérimental                       0\n",
       "famille                            0\n",
       "fantastique                        0\n",
       "guerre                             0\n",
       "historique                         0\n",
       "judiciaire                         0\n",
       "musical                            0\n",
       "policier                           0\n",
       "péplum                             0\n",
       "romance                            0\n",
       "science fiction                    0\n",
       "sport event                        0\n",
       "thriller                           0\n",
       "western                            0\n",
       "nombre_acteurs_connus              2\n",
       "distributor_important           True\n",
       "Name: 0, dtype: object"
      ]
     },
     "execution_count": 54,
     "metadata": {},
     "output_type": "execute_result"
    }
   ],
   "source": [
    "test = X.iloc[0]\n",
    "test"
   ]
  },
  {
   "cell_type": "code",
   "execution_count": 55,
   "metadata": {},
   "outputs": [
    {
     "data": {
      "text/plain": [
       "Index(['nationality', 'budget', 'duration_minutes', 'season', 'action',\n",
       "       'animation', 'arts martiaux', 'aventure', 'biopic', 'bollywood',\n",
       "       'comédie', 'comédie dramatique', 'comédie musicale', 'divers', 'drame',\n",
       "       'epouvante-horreur', 'erotique', 'espionnage', 'expérimental',\n",
       "       'famille', 'fantastique', 'guerre', 'historique', 'judiciaire',\n",
       "       'musical', 'policier', 'péplum', 'romance', 'science fiction',\n",
       "       'sport event', 'thriller', 'western', 'nombre_acteurs_connus',\n",
       "       'distributor_important'],\n",
       "      dtype='object')"
      ]
     },
     "execution_count": 55,
     "metadata": {},
     "output_type": "execute_result"
    }
   ],
   "source": [
    "X.columns"
   ]
  },
  {
   "cell_type": "code",
   "execution_count": 56,
   "metadata": {},
   "outputs": [
    {
     "data": {
      "text/plain": [
       "nationality               object\n",
       "budget                   float64\n",
       "duration_minutes           int64\n",
       "season                    object\n",
       "action                     int64\n",
       "animation                  int64\n",
       "arts martiaux              int64\n",
       "aventure                   int64\n",
       "biopic                     int64\n",
       "bollywood                  int64\n",
       "comédie                    int64\n",
       "comédie dramatique         int64\n",
       "comédie musicale           int64\n",
       "divers                     int64\n",
       "drame                      int64\n",
       "epouvante-horreur          int64\n",
       "erotique                   int64\n",
       "espionnage                 int64\n",
       "expérimental               int64\n",
       "famille                    int64\n",
       "fantastique                int64\n",
       "guerre                     int64\n",
       "historique                 int64\n",
       "judiciaire                 int64\n",
       "musical                    int64\n",
       "policier                   int64\n",
       "péplum                     int64\n",
       "romance                    int64\n",
       "science fiction            int64\n",
       "sport event                int64\n",
       "thriller                   int64\n",
       "western                    int64\n",
       "nombre_acteurs_connus      int64\n",
       "distributor_important       bool\n",
       "dtype: object"
      ]
     },
     "execution_count": 56,
     "metadata": {},
     "output_type": "execute_result"
    }
   ],
   "source": [
    "X.dtypes"
   ]
  },
  {
   "cell_type": "code",
   "execution_count": 52,
   "metadata": {},
   "outputs": [
    {
     "data": {
      "text/plain": [
       "(34,)"
      ]
     },
     "execution_count": 52,
     "metadata": {},
     "output_type": "execute_result"
    }
   ],
   "source": [
    "X.columns.shape"
   ]
  }
 ],
 "metadata": {
  "kernelspec": {
   "display_name": "dt_env",
   "language": "python",
   "name": "python3"
  },
  "language_info": {
   "codemirror_mode": {
    "name": "ipython",
    "version": 3
   },
   "file_extension": ".py",
   "mimetype": "text/x-python",
   "name": "python",
   "nbconvert_exporter": "python",
   "pygments_lexer": "ipython3",
   "version": "3.9.12"
  }
 },
 "nbformat": 4,
 "nbformat_minor": 2
}
